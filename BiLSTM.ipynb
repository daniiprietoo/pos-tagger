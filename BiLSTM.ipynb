{
 "cells": [
  {
   "cell_type": "markdown",
   "id": "00904f98-025f-411f-bcbc-d3a57e7eb8d8",
   "metadata": {},
   "source": [
    "# LSTM Models with 3 different languages"
   ]
  },
  {
   "cell_type": "markdown",
   "id": "b1de0fc9-b1c3-4961-bcc8-51c451207cef",
   "metadata": {},
   "source": [
    "### Create the configuration for the experiment\n",
    "\n",
    "All the languages with use the same model configuration for comparing performances across them"
   ]
  },
  {
   "cell_type": "code",
   "execution_count": 1,
   "id": "47cede0d-f442-413e-bb6b-2881d42f4af5",
   "metadata": {},
   "outputs": [
    {
     "name": "stdout",
     "output_type": "stream",
     "text": [
      "Requirement already satisfied: conllu in /opt/conda/lib/python3.13/site-packages (6.0.0)\n",
      "Note: you may need to restart the kernel to use updated packages.\n"
     ]
    }
   ],
   "source": [
    "%pip install conllu"
   ]
  },
  {
   "cell_type": "code",
   "execution_count": 2,
   "id": "e8bfdee0-5ab7-4253-938b-fd3bad1b58e7",
   "metadata": {},
   "outputs": [
    {
     "name": "stderr",
     "output_type": "stream",
     "text": [
      "/opt/conda/lib/python3.13/site-packages/google/protobuf/runtime_version.py:98: UserWarning: Protobuf gencode version 5.28.3 is exactly one major version older than the runtime version 6.31.1 at tensorflow/core/framework/attr_value.proto. Please update the gencode to avoid compatibility violations in the next runtime release.\n",
      "  warnings.warn(\n",
      "/opt/conda/lib/python3.13/site-packages/google/protobuf/runtime_version.py:98: UserWarning: Protobuf gencode version 5.28.3 is exactly one major version older than the runtime version 6.31.1 at tensorflow/core/framework/tensor.proto. Please update the gencode to avoid compatibility violations in the next runtime release.\n",
      "  warnings.warn(\n",
      "/opt/conda/lib/python3.13/site-packages/google/protobuf/runtime_version.py:98: UserWarning: Protobuf gencode version 5.28.3 is exactly one major version older than the runtime version 6.31.1 at tensorflow/core/framework/resource_handle.proto. Please update the gencode to avoid compatibility violations in the next runtime release.\n",
      "  warnings.warn(\n",
      "/opt/conda/lib/python3.13/site-packages/google/protobuf/runtime_version.py:98: UserWarning: Protobuf gencode version 5.28.3 is exactly one major version older than the runtime version 6.31.1 at tensorflow/core/framework/tensor_shape.proto. Please update the gencode to avoid compatibility violations in the next runtime release.\n",
      "  warnings.warn(\n",
      "/opt/conda/lib/python3.13/site-packages/google/protobuf/runtime_version.py:98: UserWarning: Protobuf gencode version 5.28.3 is exactly one major version older than the runtime version 6.31.1 at tensorflow/core/framework/types.proto. Please update the gencode to avoid compatibility violations in the next runtime release.\n",
      "  warnings.warn(\n",
      "/opt/conda/lib/python3.13/site-packages/google/protobuf/runtime_version.py:98: UserWarning: Protobuf gencode version 5.28.3 is exactly one major version older than the runtime version 6.31.1 at tensorflow/core/framework/full_type.proto. Please update the gencode to avoid compatibility violations in the next runtime release.\n",
      "  warnings.warn(\n",
      "/opt/conda/lib/python3.13/site-packages/google/protobuf/runtime_version.py:98: UserWarning: Protobuf gencode version 5.28.3 is exactly one major version older than the runtime version 6.31.1 at tensorflow/core/framework/function.proto. Please update the gencode to avoid compatibility violations in the next runtime release.\n",
      "  warnings.warn(\n",
      "/opt/conda/lib/python3.13/site-packages/google/protobuf/runtime_version.py:98: UserWarning: Protobuf gencode version 5.28.3 is exactly one major version older than the runtime version 6.31.1 at tensorflow/core/framework/node_def.proto. Please update the gencode to avoid compatibility violations in the next runtime release.\n",
      "  warnings.warn(\n",
      "/opt/conda/lib/python3.13/site-packages/google/protobuf/runtime_version.py:98: UserWarning: Protobuf gencode version 5.28.3 is exactly one major version older than the runtime version 6.31.1 at tensorflow/core/framework/op_def.proto. Please update the gencode to avoid compatibility violations in the next runtime release.\n",
      "  warnings.warn(\n",
      "/opt/conda/lib/python3.13/site-packages/google/protobuf/runtime_version.py:98: UserWarning: Protobuf gencode version 5.28.3 is exactly one major version older than the runtime version 6.31.1 at tensorflow/core/framework/graph.proto. Please update the gencode to avoid compatibility violations in the next runtime release.\n",
      "  warnings.warn(\n",
      "/opt/conda/lib/python3.13/site-packages/google/protobuf/runtime_version.py:98: UserWarning: Protobuf gencode version 5.28.3 is exactly one major version older than the runtime version 6.31.1 at tensorflow/core/framework/graph_debug_info.proto. Please update the gencode to avoid compatibility violations in the next runtime release.\n",
      "  warnings.warn(\n",
      "/opt/conda/lib/python3.13/site-packages/google/protobuf/runtime_version.py:98: UserWarning: Protobuf gencode version 5.28.3 is exactly one major version older than the runtime version 6.31.1 at tensorflow/core/framework/versions.proto. Please update the gencode to avoid compatibility violations in the next runtime release.\n",
      "  warnings.warn(\n",
      "/opt/conda/lib/python3.13/site-packages/google/protobuf/runtime_version.py:98: UserWarning: Protobuf gencode version 5.28.3 is exactly one major version older than the runtime version 6.31.1 at tensorflow/core/protobuf/config.proto. Please update the gencode to avoid compatibility violations in the next runtime release.\n",
      "  warnings.warn(\n",
      "/opt/conda/lib/python3.13/site-packages/google/protobuf/runtime_version.py:98: UserWarning: Protobuf gencode version 5.28.3 is exactly one major version older than the runtime version 6.31.1 at xla/tsl/protobuf/coordination_config.proto. Please update the gencode to avoid compatibility violations in the next runtime release.\n",
      "  warnings.warn(\n",
      "/opt/conda/lib/python3.13/site-packages/google/protobuf/runtime_version.py:98: UserWarning: Protobuf gencode version 5.28.3 is exactly one major version older than the runtime version 6.31.1 at tensorflow/core/framework/cost_graph.proto. Please update the gencode to avoid compatibility violations in the next runtime release.\n",
      "  warnings.warn(\n",
      "/opt/conda/lib/python3.13/site-packages/google/protobuf/runtime_version.py:98: UserWarning: Protobuf gencode version 5.28.3 is exactly one major version older than the runtime version 6.31.1 at tensorflow/core/framework/step_stats.proto. Please update the gencode to avoid compatibility violations in the next runtime release.\n",
      "  warnings.warn(\n",
      "/opt/conda/lib/python3.13/site-packages/google/protobuf/runtime_version.py:98: UserWarning: Protobuf gencode version 5.28.3 is exactly one major version older than the runtime version 6.31.1 at tensorflow/core/framework/allocation_description.proto. Please update the gencode to avoid compatibility violations in the next runtime release.\n",
      "  warnings.warn(\n",
      "/opt/conda/lib/python3.13/site-packages/google/protobuf/runtime_version.py:98: UserWarning: Protobuf gencode version 5.28.3 is exactly one major version older than the runtime version 6.31.1 at tensorflow/core/framework/tensor_description.proto. Please update the gencode to avoid compatibility violations in the next runtime release.\n",
      "  warnings.warn(\n",
      "/opt/conda/lib/python3.13/site-packages/google/protobuf/runtime_version.py:98: UserWarning: Protobuf gencode version 5.28.3 is exactly one major version older than the runtime version 6.31.1 at tensorflow/core/protobuf/cluster.proto. Please update the gencode to avoid compatibility violations in the next runtime release.\n",
      "  warnings.warn(\n",
      "/opt/conda/lib/python3.13/site-packages/google/protobuf/runtime_version.py:98: UserWarning: Protobuf gencode version 5.28.3 is exactly one major version older than the runtime version 6.31.1 at tensorflow/core/protobuf/debug.proto. Please update the gencode to avoid compatibility violations in the next runtime release.\n",
      "  warnings.warn(\n"
     ]
    }
   ],
   "source": [
    "import keras\n",
    "\n",
    "keras.utils.set_random_seed(50)"
   ]
  },
  {
   "cell_type": "code",
   "execution_count": 3,
   "id": "0168f0ea-b89f-4d8d-a8e2-812715916f6f",
   "metadata": {},
   "outputs": [],
   "source": [
    "from data.preprocessor import DataPreprocessor, DataPreprocessorConfig\n",
    "from trainer.trainer import TrainerConfig, Trainer\n",
    "from models.base_model import ModelConfig\n",
    "\n",
    "preprocessor_config = DataPreprocessorConfig(\n",
    "    padding_type=\"post\",\n",
    "    truncation_type=\"post\",\n",
    "    remove_long_sentences=True,\n",
    "    max_sequence_length=100,\n",
    ")\n",
    "\n",
    "training_config = TrainerConfig(\n",
    "    epochs=20,\n",
    "    batch_size=64,\n",
    "    early_stopping_patience=3,\n",
    "    learning_rate=1e-3,\n",
    "    model_dir=\"saved_models\",\n",
    "    save_best_only=True,\n",
    ")\n",
    "\n",
    "model_config = ModelConfig(\n",
    "    embedding_dim=80,\n",
    "    lstm_units=128,\n",
    "    bidirectional=True,\n",
    "    dropout_rate=0.3,\n",
    "    training_config=training_config,\n",
    ")"
   ]
  },
  {
   "cell_type": "markdown",
   "id": "6226e116-7546-41de-b8c1-7b2af0b447df",
   "metadata": {},
   "source": [
    "## English"
   ]
  },
  {
   "cell_type": "markdown",
   "id": "b1a62807-3ad7-44ef-a4a4-ca2bdb51a24f",
   "metadata": {},
   "source": [
    "### Preprocesses the data"
   ]
  },
  {
   "cell_type": "code",
   "execution_count": 4,
   "id": "65ffcfba-acb3-4ecc-a0b6-7418e0fc4f87",
   "metadata": {},
   "outputs": [],
   "source": [
    "from utils import load_data\n",
    "\n",
    "train_data, dev_data, test_data = load_data(\"english\")"
   ]
  },
  {
   "cell_type": "code",
   "execution_count": 5,
   "id": "c099e248-093a-4314-b03d-c5b4e3f67b88",
   "metadata": {},
   "outputs": [],
   "source": [
    "preprocessor = DataPreprocessor(preprocessor_config)"
   ]
  },
  {
   "cell_type": "code",
   "execution_count": 6,
   "id": "256bd283-d392-4696-ba0f-e28d7682f7df",
   "metadata": {
    "scrolled": true
   },
   "outputs": [
    {
     "name": "stdout",
     "output_type": "stream",
     "text": [
      "Sample sentence: Al - Zaman : American forces killed Shaikh Abdullah al - Ani , the preacher at the mosque in the town of Qaim , near the Syrian border .\n",
      "Sample tags: PROPN PUNCT PROPN PUNCT ADJ NOUN VERB PROPN PROPN PROPN PUNCT PROPN PUNCT DET NOUN ADP DET NOUN ADP DET NOUN ADP PROPN PUNCT ADP DET ADJ NOUN PUNCT\n",
      "Sample vectorized sentence shape: (100,)\n",
      "Sample vectorized sentence: [  264    16  6152    45   293   709  1150  4860 18886   592    16 18792\n",
      "     4     3  7335    35     3  7509    10     3   486     8  8930     4\n",
      "   751     3  2357  1642     2     0     0     0     0     0     0     0\n",
      "     0     0     0     0     0     0     0     0     0     0     0     0\n",
      "     0     0     0     0     0     0     0     0     0     0     0     0\n",
      "     0     0     0     0     0     0     0     0     0     0     0     0\n",
      "     0     0     0     0     0     0     0     0     0     0     0     0\n",
      "     0     0     0     0     0     0     0     0     0     0     0     0\n",
      "     0     0     0     0]\n",
      "Sample vectorized tags: [12 13 12 13  1  8 16 12 12 12 13 12 13  6  8  2  6  8  2  6  8  2 12 13\n",
      "  2  6  1  8 13  0  0  0  0  0  0  0  0  0  0  0  0  0  0  0  0  0  0  0\n",
      "  0  0  0  0  0  0  0  0  0  0  0  0  0  0  0  0  0  0  0  0  0  0  0  0\n",
      "  0  0  0  0  0  0  0  0  0  0  0  0  0  0  0  0  0  0  0  0  0  0  0  0\n",
      "  0  0  0  0]\n",
      "Sample sentence: From the AP comes this story :\n",
      "Sample tags: ADP DET PROPN VERB DET NOUN PUNCT\n",
      "Sample vectorized sentence shape: (100,)\n",
      "Sample vectorized sentence: [  767     3 18913   659    25  1272    45     0     0     0     0     0\n",
      "     0     0     0     0     0     0     0     0     0     0     0     0\n",
      "     0     0     0     0     0     0     0     0     0     0     0     0\n",
      "     0     0     0     0     0     0     0     0     0     0     0     0\n",
      "     0     0     0     0     0     0     0     0     0     0     0     0\n",
      "     0     0     0     0     0     0     0     0     0     0     0     0\n",
      "     0     0     0     0     0     0     0     0     0     0     0     0\n",
      "     0     0     0     0     0     0     0     0     0     0     0     0\n",
      "     0     0     0     0]\n",
      "Sample vectorized tags: [ 2  6 12 16  6  8 13  0  0  0  0  0  0  0  0  0  0  0  0  0  0  0  0  0\n",
      "  0  0  0  0  0  0  0  0  0  0  0  0  0  0  0  0  0  0  0  0  0  0  0  0\n",
      "  0  0  0  0  0  0  0  0  0  0  0  0  0  0  0  0  0  0  0  0  0  0  0  0\n",
      "  0  0  0  0  0  0  0  0  0  0  0  0  0  0  0  0  0  0  0  0  0  0  0  0\n",
      "  0  0  0  0]\n",
      "Sample sentence: What if Google Morphed Into GoogleOS ?\n",
      "Sample tags: PRON SCONJ PROPN VERB ADP PROPN PUNCT\n",
      "Sample vectorized sentence shape: (100,)\n",
      "Sample vectorized sentence: [  212    54  3444     1 17319     1    33     0     0     0     0     0\n",
      "     0     0     0     0     0     0     0     0     0     0     0     0\n",
      "     0     0     0     0     0     0     0     0     0     0     0     0\n",
      "     0     0     0     0     0     0     0     0     0     0     0     0\n",
      "     0     0     0     0     0     0     0     0     0     0     0     0\n",
      "     0     0     0     0     0     0     0     0     0     0     0     0\n",
      "     0     0     0     0     0     0     0     0     0     0     0     0\n",
      "     0     0     0     0     0     0     0     0     0     0     0     0\n",
      "     0     0     0     0]\n",
      "Sample vectorized tags: [11 14 12 16  2 12 13  0  0  0  0  0  0  0  0  0  0  0  0  0  0  0  0  0\n",
      "  0  0  0  0  0  0  0  0  0  0  0  0  0  0  0  0  0  0  0  0  0  0  0  0\n",
      "  0  0  0  0  0  0  0  0  0  0  0  0  0  0  0  0  0  0  0  0  0  0  0  0\n",
      "  0  0  0  0  0  0  0  0  0  0  0  0  0  0  0  0  0  0  0  0  0  0  0  0\n",
      "  0  0  0  0]\n"
     ]
    }
   ],
   "source": [
    "X_train, y_train = preprocessor.process_data_to_pad_sequences(\n",
    "    train_data, is_train_dataset=True\n",
    ")\n",
    "X_dev, y_dev = preprocessor.process_data_to_pad_sequences(\n",
    "    dev_data, is_train_dataset=False\n",
    ")\n",
    "X_test, y_test = preprocessor.process_data_to_pad_sequences(\n",
    "    test_data, is_train_dataset=False\n",
    ")"
   ]
  },
  {
   "cell_type": "markdown",
   "id": "01a42629-77f8-4b9f-9fda-1ed11e9147db",
   "metadata": {},
   "source": [
    "### Initilize the model with the config"
   ]
  },
  {
   "cell_type": "code",
   "execution_count": 7,
   "id": "bb21160c-cefb-475d-b8a1-252bcc7d5b0f",
   "metadata": {},
   "outputs": [
    {
     "name": "stdout",
     "output_type": "stream",
     "text": [
      "Model summary:\n",
      "\n"
     ]
    },
    {
     "data": {
      "text/html": [
       "<pre style=\"white-space:pre;overflow-x:auto;line-height:normal;font-family:Menlo,'DejaVu Sans Mono',consolas,'Courier New',monospace\"><span style=\"font-weight: bold\">Model: \"sequential\"</span>\n",
       "</pre>\n"
      ],
      "text/plain": [
       "\u001b[1mModel: \"sequential\"\u001b[0m\n"
      ]
     },
     "metadata": {},
     "output_type": "display_data"
    },
    {
     "data": {
      "text/html": [
       "<pre style=\"white-space:pre;overflow-x:auto;line-height:normal;font-family:Menlo,'DejaVu Sans Mono',consolas,'Courier New',monospace\">┏━━━━━━━━━━━━━━━━━━━━━━━━━━━━━━━━━┳━━━━━━━━━━━━━━━━━━━━━━━━┳━━━━━━━━━━━━━━━┓\n",
       "┃<span style=\"font-weight: bold\"> Layer (type)                    </span>┃<span style=\"font-weight: bold\"> Output Shape           </span>┃<span style=\"font-weight: bold\">       Param # </span>┃\n",
       "┡━━━━━━━━━━━━━━━━━━━━━━━━━━━━━━━━━╇━━━━━━━━━━━━━━━━━━━━━━━━╇━━━━━━━━━━━━━━━┩\n",
       "│ embedding (<span style=\"color: #0087ff; text-decoration-color: #0087ff\">Embedding</span>)           │ (<span style=\"color: #00d7ff; text-decoration-color: #00d7ff\">None</span>, <span style=\"color: #00af00; text-decoration-color: #00af00\">100</span>, <span style=\"color: #00af00; text-decoration-color: #00af00\">80</span>)        │     <span style=\"color: #00af00; text-decoration-color: #00af00\">1,574,080</span> │\n",
       "├─────────────────────────────────┼────────────────────────┼───────────────┤\n",
       "│ bidirectional (<span style=\"color: #0087ff; text-decoration-color: #0087ff\">Bidirectional</span>)   │ (<span style=\"color: #00d7ff; text-decoration-color: #00d7ff\">None</span>, <span style=\"color: #00af00; text-decoration-color: #00af00\">100</span>, <span style=\"color: #00af00; text-decoration-color: #00af00\">256</span>)       │       <span style=\"color: #00af00; text-decoration-color: #00af00\">214,016</span> │\n",
       "├─────────────────────────────────┼────────────────────────┼───────────────┤\n",
       "│ time_distributed                │ (<span style=\"color: #00d7ff; text-decoration-color: #00d7ff\">None</span>, <span style=\"color: #00af00; text-decoration-color: #00af00\">100</span>, <span style=\"color: #00af00; text-decoration-color: #00af00\">19</span>)        │         <span style=\"color: #00af00; text-decoration-color: #00af00\">4,883</span> │\n",
       "│ (<span style=\"color: #0087ff; text-decoration-color: #0087ff\">TimeDistributed</span>)               │                        │               │\n",
       "└─────────────────────────────────┴────────────────────────┴───────────────┘\n",
       "</pre>\n"
      ],
      "text/plain": [
       "┏━━━━━━━━━━━━━━━━━━━━━━━━━━━━━━━━━┳━━━━━━━━━━━━━━━━━━━━━━━━┳━━━━━━━━━━━━━━━┓\n",
       "┃\u001b[1m \u001b[0m\u001b[1mLayer (type)                   \u001b[0m\u001b[1m \u001b[0m┃\u001b[1m \u001b[0m\u001b[1mOutput Shape          \u001b[0m\u001b[1m \u001b[0m┃\u001b[1m \u001b[0m\u001b[1m      Param #\u001b[0m\u001b[1m \u001b[0m┃\n",
       "┡━━━━━━━━━━━━━━━━━━━━━━━━━━━━━━━━━╇━━━━━━━━━━━━━━━━━━━━━━━━╇━━━━━━━━━━━━━━━┩\n",
       "│ embedding (\u001b[38;5;33mEmbedding\u001b[0m)           │ (\u001b[38;5;45mNone\u001b[0m, \u001b[38;5;34m100\u001b[0m, \u001b[38;5;34m80\u001b[0m)        │     \u001b[38;5;34m1,574,080\u001b[0m │\n",
       "├─────────────────────────────────┼────────────────────────┼───────────────┤\n",
       "│ bidirectional (\u001b[38;5;33mBidirectional\u001b[0m)   │ (\u001b[38;5;45mNone\u001b[0m, \u001b[38;5;34m100\u001b[0m, \u001b[38;5;34m256\u001b[0m)       │       \u001b[38;5;34m214,016\u001b[0m │\n",
       "├─────────────────────────────────┼────────────────────────┼───────────────┤\n",
       "│ time_distributed                │ (\u001b[38;5;45mNone\u001b[0m, \u001b[38;5;34m100\u001b[0m, \u001b[38;5;34m19\u001b[0m)        │         \u001b[38;5;34m4,883\u001b[0m │\n",
       "│ (\u001b[38;5;33mTimeDistributed\u001b[0m)               │                        │               │\n",
       "└─────────────────────────────────┴────────────────────────┴───────────────┘\n"
      ]
     },
     "metadata": {},
     "output_type": "display_data"
    },
    {
     "data": {
      "text/html": [
       "<pre style=\"white-space:pre;overflow-x:auto;line-height:normal;font-family:Menlo,'DejaVu Sans Mono',consolas,'Courier New',monospace\"><span style=\"font-weight: bold\"> Total params: </span><span style=\"color: #00af00; text-decoration-color: #00af00\">1,792,979</span> (6.84 MB)\n",
       "</pre>\n"
      ],
      "text/plain": [
       "\u001b[1m Total params: \u001b[0m\u001b[38;5;34m1,792,979\u001b[0m (6.84 MB)\n"
      ]
     },
     "metadata": {},
     "output_type": "display_data"
    },
    {
     "data": {
      "text/html": [
       "<pre style=\"white-space:pre;overflow-x:auto;line-height:normal;font-family:Menlo,'DejaVu Sans Mono',consolas,'Courier New',monospace\"><span style=\"font-weight: bold\"> Trainable params: </span><span style=\"color: #00af00; text-decoration-color: #00af00\">1,792,979</span> (6.84 MB)\n",
       "</pre>\n"
      ],
      "text/plain": [
       "\u001b[1m Trainable params: \u001b[0m\u001b[38;5;34m1,792,979\u001b[0m (6.84 MB)\n"
      ]
     },
     "metadata": {},
     "output_type": "display_data"
    },
    {
     "data": {
      "text/html": [
       "<pre style=\"white-space:pre;overflow-x:auto;line-height:normal;font-family:Menlo,'DejaVu Sans Mono',consolas,'Courier New',monospace\"><span style=\"font-weight: bold\"> Non-trainable params: </span><span style=\"color: #00af00; text-decoration-color: #00af00\">0</span> (0.00 B)\n",
       "</pre>\n"
      ],
      "text/plain": [
       "\u001b[1m Non-trainable params: \u001b[0m\u001b[38;5;34m0\u001b[0m (0.00 B)\n"
      ]
     },
     "metadata": {},
     "output_type": "display_data"
    },
    {
     "name": "stdout",
     "output_type": "stream",
     "text": [
      "None\n"
     ]
    }
   ],
   "source": [
    "from models.lstm_model import LSTMModel\n",
    "\n",
    "english_lstm = LSTMModel(\n",
    "    model_config,\n",
    "    preprocessor.vocab_size,\n",
    "    preprocessor.num_tags,\n",
    "    preprocessor_config.max_sequence_length,\n",
    ")\n",
    "english_lstm.build_model()\n",
    "english_lstm.compile_model()\n",
    "\n",
    "print(\"Model summary:\\n\")\n",
    "print(english_lstm.get_model().summary())"
   ]
  },
  {
   "cell_type": "markdown",
   "id": "8b3e7818-2324-45c8-ba86-700548c6bad9",
   "metadata": {},
   "source": [
    "### Training the model"
   ]
  },
  {
   "cell_type": "code",
   "execution_count": 8,
   "id": "b25e129c-9a39-4e3f-ab4e-22bfbc6834ea",
   "metadata": {},
   "outputs": [],
   "source": [
    "# Initialize trainer\n",
    "trainer = Trainer(training_config, english_lstm, preprocessor)"
   ]
  },
  {
   "cell_type": "code",
   "execution_count": null,
   "id": "b6e65833-403e-41e5-b207-094961015f51",
   "metadata": {
    "scrolled": true
   },
   "outputs": [
    {
     "name": "stdout",
     "output_type": "stream",
     "text": [
      "Training model...\n",
      "\n",
      "Epoch 1/20\n",
      "\u001b[1m101/196\u001b[0m \u001b[32m━━━━━━━━━━\u001b[0m\u001b[37m━━━━━━━━━━\u001b[0m \u001b[1m13s\u001b[0m 139ms/step - _masked_accuracy: 0.2766 - loss: 2.4700"
     ]
    }
   ],
   "source": [
    "# Train the model\n",
    "print(\"Training model...\\n\")\n",
    "trainer.train((X_train, y_train), (X_dev, y_dev))\n",
    "print(\"Training completed.\\n\")"
   ]
  },
  {
   "cell_type": "markdown",
   "id": "8963d2b1-07f5-40c1-bce8-e75be1da7e1d",
   "metadata": {},
   "source": [
    "### Testing the model"
   ]
  },
  {
   "cell_type": "code",
   "execution_count": null,
   "id": "5f51730b-645e-4cbc-921e-927c15da6f98",
   "metadata": {},
   "outputs": [],
   "source": [
    "from evaluator.evaluator import Evaluator\n",
    "\n",
    "evaluator = Evaluator(english_lstm, preprocessor)"
   ]
  },
  {
   "cell_type": "code",
   "execution_count": null,
   "id": "55a7d7d2-1c09-4809-98eb-2611c42c9ab9",
   "metadata": {
    "scrolled": true
   },
   "outputs": [],
   "source": [
    "test_metrics = evaluator.evaluate(X_test, y_test, \"Test\")"
   ]
  },
  {
   "cell_type": "markdown",
   "id": "3ec91403-505e-4df7-9472-4bb553d74f60",
   "metadata": {},
   "source": [
    "### Inference on new sentences"
   ]
  },
  {
   "cell_type": "code",
   "execution_count": null,
   "id": "b87e799b-aaa1-40fc-aacb-c525f334ee05",
   "metadata": {},
   "outputs": [],
   "source": [
    "from inference.predictor import Predictor\n",
    "\n",
    "# Create predictor for inference\n",
    "predictor = Predictor(english_lstm.get_model(), preprocessor)"
   ]
  },
  {
   "cell_type": "code",
   "execution_count": null,
   "id": "1d27ffca-e911-41f5-8c15-596530cd1d34",
   "metadata": {},
   "outputs": [],
   "source": [
    "example_sentence = \"Today it is cloudy\"\n",
    "predicted_tags = predictor.predict_sentence(example_sentence)\n",
    "print(f\"\\nExample prediction:\")\n",
    "print(f\"Sentence: {example_sentence}\")\n",
    "print(f\"Predicted tags: {' '.join(predicted_tags)}\")"
   ]
  },
  {
   "cell_type": "markdown",
   "id": "c99d4ea5-053e-4b7a-b8b6-b9c5f56bf2b2",
   "metadata": {},
   "source": [
    "## Spanish"
   ]
  },
  {
   "cell_type": "code",
   "execution_count": null,
   "id": "0fe73f07-0cc4-483b-a302-3b83a08d9789",
   "metadata": {},
   "outputs": [],
   "source": [
    "from utils import load_data\n",
    "\n",
    "train_data_es, dev_data_es, test_data_es = load_data(\"spanish\")"
   ]
  },
  {
   "cell_type": "code",
   "execution_count": null,
   "id": "8199aa7d-1b12-4dbf-8557-9986469d45c5",
   "metadata": {},
   "outputs": [],
   "source": [
    "preprocessor_es = DataPreprocessor(preprocessor_config)"
   ]
  },
  {
   "cell_type": "code",
   "execution_count": null,
   "id": "2c014127-e901-49cd-8696-90c9e67c4f08",
   "metadata": {},
   "outputs": [],
   "source": [
    "X_train_es, y_train_es = preprocessor_es.process_data_to_pad_sequences(\n",
    "    train_data_es, is_train_dataset=True\n",
    ")\n",
    "X_dev_es, y_dev_es = preprocessor_es.process_data_to_pad_sequences(\n",
    "    dev_data_es, is_train_dataset=False\n",
    ")\n",
    "X_test_es, y_test_es = preprocessor_es.process_data_to_pad_sequences(\n",
    "    test_data_es, is_train_dataset=False\n",
    ")"
   ]
  },
  {
   "cell_type": "code",
   "execution_count": null,
   "id": "9d5528dc-8053-4c07-b468-7c7cd7eac5a9",
   "metadata": {},
   "outputs": [],
   "source": [
    "from models.lstm_model import LSTMModel\n",
    "\n",
    "es_lstm = LSTMModel(\n",
    "    model_config,\n",
    "    preprocessor_es.vocab_size,\n",
    "    preprocessor_es.num_tags,\n",
    "    preprocessor_config.max_sequence_length,\n",
    ")\n",
    "es_lstm.build_model()\n",
    "es_lstm.compile_model()\n",
    "\n",
    "print(\"Model summary:\\n\")\n",
    "print(es_lstm.get_model().summary())"
   ]
  },
  {
   "cell_type": "code",
   "execution_count": null,
   "id": "b4af7cea-9216-46f3-aa2a-176f26b8cfdb",
   "metadata": {},
   "outputs": [],
   "source": [
    "trainer = Trainer(training_config, es_lstm, preprocessor_es)"
   ]
  },
  {
   "cell_type": "code",
   "execution_count": null,
   "id": "628cc494-1330-4cdb-8ea0-640d0dd0f6cf",
   "metadata": {},
   "outputs": [],
   "source": [
    "# Train the model\n",
    "print(\"Training model...\\n\")\n",
    "trainer.train((X_train_es, y_train_es), (X_dev_es, y_dev_es))\n",
    "print(\"Training completed.\\n\")"
   ]
  },
  {
   "cell_type": "code",
   "execution_count": null,
   "id": "bdbe5ec6-e024-4161-beb4-5a755d8e535c",
   "metadata": {},
   "outputs": [],
   "source": [
    "from evaluator.evaluator import Evaluator\n",
    "\n",
    "evaluator_es = Evaluator(es_lstm, preprocessor_es)"
   ]
  },
  {
   "cell_type": "code",
   "execution_count": null,
   "id": "32031bc0-5a73-43b9-99aa-f75bf03af3d5",
   "metadata": {},
   "outputs": [],
   "source": [
    "test_metrics_es = evaluator_es.evaluate(X_test_es, y_test_es, \"Test\")"
   ]
  },
  {
   "cell_type": "markdown",
   "id": "ce0c0e3b-2920-455b-87c3-fe65757a41db",
   "metadata": {},
   "source": [
    "### Inference on new sentences"
   ]
  },
  {
   "cell_type": "code",
   "execution_count": null,
   "id": "26673cc7-ea8a-4d68-9139-aa1aee7fde88",
   "metadata": {},
   "outputs": [],
   "source": [
    "from inference.predictor import Predictor\n",
    "\n",
    "# Create predictor for inference\n",
    "predictor_es = Predictor(es_lstm.get_model(), preprocessor_es)"
   ]
  },
  {
   "cell_type": "code",
   "execution_count": null,
   "id": "3cd3455f-a3e3-4270-a0cb-5a5c958c4500",
   "metadata": {
    "scrolled": true
   },
   "outputs": [],
   "source": [
    "example_sentence = \"Hoy el tiempo es soleado .\"\n",
    "predicted_tags = predictor_es.predict_sentence(example_sentence)\n",
    "print(f\"\\nExample prediction:\")\n",
    "print(f\"Sentence: {example_sentence}\")\n",
    "print(f\"Predicted tags: {' '.join(predicted_tags)}\")"
   ]
  },
  {
   "cell_type": "code",
   "execution_count": null,
   "id": "49a0f6eb-889b-4943-beaf-619fb5b1feb9",
   "metadata": {},
   "outputs": [],
   "source": []
  },
  {
   "cell_type": "markdown",
   "id": "1ec55b36-d42d-4439-bac7-ab22a8d7bf8e",
   "metadata": {},
   "source": [
    "## German"
   ]
  },
  {
   "cell_type": "code",
   "execution_count": null,
   "id": "dfe97c3f-ebe4-4c1f-9d03-d616bef45abb",
   "metadata": {},
   "outputs": [],
   "source": [
    "from utils import load_data\n",
    "\n",
    "train_data_ge, dev_data_ge, test_data_ge = load_data(\"german\")"
   ]
  },
  {
   "cell_type": "code",
   "execution_count": null,
   "id": "0d76ee2a-ad88-420b-801d-fac7e9028465",
   "metadata": {},
   "outputs": [],
   "source": [
    "preprocessor_ge = DataPreprocessor(preprocessor_config)"
   ]
  },
  {
   "cell_type": "code",
   "execution_count": null,
   "id": "c4637df3-d55d-4004-86fe-6266dc85f4a9",
   "metadata": {},
   "outputs": [],
   "source": [
    "X_train_ge, y_train_ge = preprocessor_ge.process_data_to_pad_sequences(\n",
    "    train_data_ge, is_train_dataset=True\n",
    ")\n",
    "X_dev_ge, y_dev_ge = preprocessor_ge.process_data_to_pad_sequences(\n",
    "    dev_data_ge, is_train_dataset=False\n",
    ")\n",
    "X_test_ge, y_test_ge = preprocessor_ge.process_data_to_pad_sequences(\n",
    "    test_data_ge, is_train_dataset=False\n",
    ")"
   ]
  },
  {
   "cell_type": "code",
   "execution_count": null,
   "id": "2f064c62-a057-4933-9aa0-dfe122bfba3c",
   "metadata": {},
   "outputs": [],
   "source": [
    "from models.lstm_model import LSTMModel\n",
    "\n",
    "ge_lstm = LSTMModel(\n",
    "    model_config,\n",
    "    preprocessor_ge.vocab_size,\n",
    "    preprocessor_ge.num_tags,\n",
    "    preprocessor_config.max_sequence_length,\n",
    ")\n",
    "ge_lstm.build_model()\n",
    "ge_lstm.compile_model()\n",
    "\n",
    "print(\"Model summary:\\n\")\n",
    "print(ge_lstm.get_model().summary())"
   ]
  },
  {
   "cell_type": "code",
   "execution_count": null,
   "id": "2b3e9c09-10bb-4c6d-ab20-81f59f8efe31",
   "metadata": {},
   "outputs": [],
   "source": [
    "trainer_ge = Trainer(training_config, ge_lstm, preprocessor_ge)"
   ]
  },
  {
   "cell_type": "code",
   "execution_count": null,
   "id": "e783fdad-8b61-4130-8a22-e6fc9c8b14f4",
   "metadata": {},
   "outputs": [],
   "source": [
    "# Train the model\n",
    "print(\"Training model...\\n\")\n",
    "trainer_ge.train((X_train_ge, y_train_ge), (X_dev_ge, y_dev_ge))\n",
    "print(\"Training completed.\\n\")"
   ]
  },
  {
   "cell_type": "code",
   "execution_count": null,
   "id": "72784111-5e0a-4857-bb11-ef218ad7c7aa",
   "metadata": {},
   "outputs": [],
   "source": [
    "from evaluator.evaluator import Evaluator\n",
    "\n",
    "evaluator_ge = Evaluator(ge_lstm, preprocessor_ge)"
   ]
  },
  {
   "cell_type": "code",
   "execution_count": null,
   "id": "78cad7ae-c025-4cd9-8f1a-bafd871d4e21",
   "metadata": {},
   "outputs": [],
   "source": [
    "test_metrics_ge = evaluator_ge.evaluate(X_test_ge, y_test_ge, \"Test\")"
   ]
  },
  {
   "cell_type": "markdown",
   "id": "76dcfe46-4b92-4eb9-8017-dce3bb3ca3ff",
   "metadata": {},
   "source": [
    "### Inference on new sentences"
   ]
  },
  {
   "cell_type": "code",
   "execution_count": null,
   "id": "57012a2f-9b62-4721-92bf-07303dce72a1",
   "metadata": {},
   "outputs": [],
   "source": [
    "from inference.predictor import Predictor\n",
    "\n",
    "# Create predictor for inference\n",
    "predictor_ge = Predictor(ge_lstm.get_model(), preprocessor_ge)"
   ]
  },
  {
   "cell_type": "code",
   "execution_count": null,
   "id": "8b3a18dd-4f95-4872-9a4c-4c52b533f994",
   "metadata": {
    "scrolled": true
   },
   "outputs": [],
   "source": [
    "example_sentence = \"Heute ist es wolkig .\"\n",
    "predicted_tags = predictor_es.predict_sentence(example_sentence)\n",
    "print(f\"\\nExample prediction:\")\n",
    "print(f\"Sentence: {example_sentence}\")\n",
    "print(f\"Predicted tags: {' '.join(predicted_tags)}\")"
   ]
  },
  {
   "cell_type": "code",
   "execution_count": null,
   "id": "1aea3491",
   "metadata": {},
   "outputs": [],
   "source": []
  }
 ],
 "metadata": {
  "kernelspec": {
   "display_name": "Python 3 (ipykernel)",
   "language": "python",
   "name": "python3"
  },
  "language_info": {
   "codemirror_mode": {
    "name": "ipython",
    "version": 3
   },
   "file_extension": ".py",
   "mimetype": "text/x-python",
   "name": "python",
   "nbconvert_exporter": "python",
   "pygments_lexer": "ipython3",
   "version": "3.13.7"
  }
 },
 "nbformat": 4,
 "nbformat_minor": 5
}
