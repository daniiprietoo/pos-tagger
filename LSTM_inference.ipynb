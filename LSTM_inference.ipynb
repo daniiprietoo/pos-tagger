{
 "cells": [
  {
   "cell_type": "markdown",
   "id": "00904f98-025f-411f-bcbc-d3a57e7eb8d8",
   "metadata": {},
   "source": [
    "# LSTM Models with 3 different languages"
   ]
  },
  {
   "cell_type": "markdown",
   "id": "b1de0fc9-b1c3-4961-bcc8-51c451207cef",
   "metadata": {},
   "source": [
    "### Create the configuration for the experiment\n",
    "\n",
    "All the languages with use the same model configuration for comparing performances across them"
   ]
  },
  {
   "cell_type": "code",
   "execution_count": 1,
   "id": "47cede0d-f442-413e-bb6b-2881d42f4af5",
   "metadata": {},
   "outputs": [
    {
     "name": "stdout",
     "output_type": "stream",
     "text": [
      "Requirement already satisfied: conllu in /opt/conda/lib/python3.13/site-packages (6.0.0)\n",
      "Note: you may need to restart the kernel to use updated packages.\n"
     ]
    }
   ],
   "source": [
    "%pip install conllu"
   ]
  },
  {
   "cell_type": "code",
   "execution_count": 2,
   "id": "e8bfdee0-5ab7-4253-938b-fd3bad1b58e7",
   "metadata": {},
   "outputs": [
    {
     "name": "stderr",
     "output_type": "stream",
     "text": [
      "/opt/conda/lib/python3.13/site-packages/google/protobuf/runtime_version.py:98: UserWarning: Protobuf gencode version 5.28.3 is exactly one major version older than the runtime version 6.31.1 at tensorflow/core/framework/attr_value.proto. Please update the gencode to avoid compatibility violations in the next runtime release.\n",
      "  warnings.warn(\n",
      "/opt/conda/lib/python3.13/site-packages/google/protobuf/runtime_version.py:98: UserWarning: Protobuf gencode version 5.28.3 is exactly one major version older than the runtime version 6.31.1 at tensorflow/core/framework/tensor.proto. Please update the gencode to avoid compatibility violations in the next runtime release.\n",
      "  warnings.warn(\n",
      "/opt/conda/lib/python3.13/site-packages/google/protobuf/runtime_version.py:98: UserWarning: Protobuf gencode version 5.28.3 is exactly one major version older than the runtime version 6.31.1 at tensorflow/core/framework/resource_handle.proto. Please update the gencode to avoid compatibility violations in the next runtime release.\n",
      "  warnings.warn(\n",
      "/opt/conda/lib/python3.13/site-packages/google/protobuf/runtime_version.py:98: UserWarning: Protobuf gencode version 5.28.3 is exactly one major version older than the runtime version 6.31.1 at tensorflow/core/framework/tensor_shape.proto. Please update the gencode to avoid compatibility violations in the next runtime release.\n",
      "  warnings.warn(\n",
      "/opt/conda/lib/python3.13/site-packages/google/protobuf/runtime_version.py:98: UserWarning: Protobuf gencode version 5.28.3 is exactly one major version older than the runtime version 6.31.1 at tensorflow/core/framework/types.proto. Please update the gencode to avoid compatibility violations in the next runtime release.\n",
      "  warnings.warn(\n",
      "/opt/conda/lib/python3.13/site-packages/google/protobuf/runtime_version.py:98: UserWarning: Protobuf gencode version 5.28.3 is exactly one major version older than the runtime version 6.31.1 at tensorflow/core/framework/full_type.proto. Please update the gencode to avoid compatibility violations in the next runtime release.\n",
      "  warnings.warn(\n",
      "/opt/conda/lib/python3.13/site-packages/google/protobuf/runtime_version.py:98: UserWarning: Protobuf gencode version 5.28.3 is exactly one major version older than the runtime version 6.31.1 at tensorflow/core/framework/function.proto. Please update the gencode to avoid compatibility violations in the next runtime release.\n",
      "  warnings.warn(\n",
      "/opt/conda/lib/python3.13/site-packages/google/protobuf/runtime_version.py:98: UserWarning: Protobuf gencode version 5.28.3 is exactly one major version older than the runtime version 6.31.1 at tensorflow/core/framework/node_def.proto. Please update the gencode to avoid compatibility violations in the next runtime release.\n",
      "  warnings.warn(\n",
      "/opt/conda/lib/python3.13/site-packages/google/protobuf/runtime_version.py:98: UserWarning: Protobuf gencode version 5.28.3 is exactly one major version older than the runtime version 6.31.1 at tensorflow/core/framework/op_def.proto. Please update the gencode to avoid compatibility violations in the next runtime release.\n",
      "  warnings.warn(\n",
      "/opt/conda/lib/python3.13/site-packages/google/protobuf/runtime_version.py:98: UserWarning: Protobuf gencode version 5.28.3 is exactly one major version older than the runtime version 6.31.1 at tensorflow/core/framework/graph.proto. Please update the gencode to avoid compatibility violations in the next runtime release.\n",
      "  warnings.warn(\n",
      "/opt/conda/lib/python3.13/site-packages/google/protobuf/runtime_version.py:98: UserWarning: Protobuf gencode version 5.28.3 is exactly one major version older than the runtime version 6.31.1 at tensorflow/core/framework/graph_debug_info.proto. Please update the gencode to avoid compatibility violations in the next runtime release.\n",
      "  warnings.warn(\n",
      "/opt/conda/lib/python3.13/site-packages/google/protobuf/runtime_version.py:98: UserWarning: Protobuf gencode version 5.28.3 is exactly one major version older than the runtime version 6.31.1 at tensorflow/core/framework/versions.proto. Please update the gencode to avoid compatibility violations in the next runtime release.\n",
      "  warnings.warn(\n",
      "/opt/conda/lib/python3.13/site-packages/google/protobuf/runtime_version.py:98: UserWarning: Protobuf gencode version 5.28.3 is exactly one major version older than the runtime version 6.31.1 at tensorflow/core/protobuf/config.proto. Please update the gencode to avoid compatibility violations in the next runtime release.\n",
      "  warnings.warn(\n",
      "/opt/conda/lib/python3.13/site-packages/google/protobuf/runtime_version.py:98: UserWarning: Protobuf gencode version 5.28.3 is exactly one major version older than the runtime version 6.31.1 at xla/tsl/protobuf/coordination_config.proto. Please update the gencode to avoid compatibility violations in the next runtime release.\n",
      "  warnings.warn(\n",
      "/opt/conda/lib/python3.13/site-packages/google/protobuf/runtime_version.py:98: UserWarning: Protobuf gencode version 5.28.3 is exactly one major version older than the runtime version 6.31.1 at tensorflow/core/framework/cost_graph.proto. Please update the gencode to avoid compatibility violations in the next runtime release.\n",
      "  warnings.warn(\n",
      "/opt/conda/lib/python3.13/site-packages/google/protobuf/runtime_version.py:98: UserWarning: Protobuf gencode version 5.28.3 is exactly one major version older than the runtime version 6.31.1 at tensorflow/core/framework/step_stats.proto. Please update the gencode to avoid compatibility violations in the next runtime release.\n",
      "  warnings.warn(\n",
      "/opt/conda/lib/python3.13/site-packages/google/protobuf/runtime_version.py:98: UserWarning: Protobuf gencode version 5.28.3 is exactly one major version older than the runtime version 6.31.1 at tensorflow/core/framework/allocation_description.proto. Please update the gencode to avoid compatibility violations in the next runtime release.\n",
      "  warnings.warn(\n",
      "/opt/conda/lib/python3.13/site-packages/google/protobuf/runtime_version.py:98: UserWarning: Protobuf gencode version 5.28.3 is exactly one major version older than the runtime version 6.31.1 at tensorflow/core/framework/tensor_description.proto. Please update the gencode to avoid compatibility violations in the next runtime release.\n",
      "  warnings.warn(\n",
      "/opt/conda/lib/python3.13/site-packages/google/protobuf/runtime_version.py:98: UserWarning: Protobuf gencode version 5.28.3 is exactly one major version older than the runtime version 6.31.1 at tensorflow/core/protobuf/cluster.proto. Please update the gencode to avoid compatibility violations in the next runtime release.\n",
      "  warnings.warn(\n",
      "/opt/conda/lib/python3.13/site-packages/google/protobuf/runtime_version.py:98: UserWarning: Protobuf gencode version 5.28.3 is exactly one major version older than the runtime version 6.31.1 at tensorflow/core/protobuf/debug.proto. Please update the gencode to avoid compatibility violations in the next runtime release.\n",
      "  warnings.warn(\n"
     ]
    }
   ],
   "source": [
    "import keras\n",
    "\n",
    "keras.utils.set_random_seed(50)"
   ]
  },
  {
   "cell_type": "code",
   "execution_count": 3,
   "id": "0168f0ea-b89f-4d8d-a8e2-812715916f6f",
   "metadata": {},
   "outputs": [],
   "source": [
    "from data.preprocessor import DataPreprocessor, DataPreprocessorConfig\n",
    "from trainer.trainer import TrainerConfig, Trainer\n",
    "from models.base_model import ModelConfig\n",
    "\n",
    "preprocessor_config = DataPreprocessorConfig(\n",
    "    padding_type=\"post\",\n",
    "    truncation_type=\"post\",\n",
    "    remove_long_sentences=True,\n",
    "    max_sequence_length=100,\n",
    ")\n",
    "\n",
    "training_config = TrainerConfig(\n",
    "    epochs=20,\n",
    "    batch_size=64,\n",
    "    early_stopping_patience=3,\n",
    "    learning_rate=1e-3,\n",
    "    model_dir=\"saved_models\",\n",
    "    save_best_only=True,\n",
    ")\n",
    "\n",
    "model_config = ModelConfig(\n",
    "    embedding_dim=80,\n",
    "    lstm_units=128,\n",
    "    bidirectional=False,\n",
    "    dropout_rate=0.3,\n",
    "    training_config=training_config,\n",
    ")"
   ]
  },
  {
   "cell_type": "markdown",
   "id": "6226e116-7546-41de-b8c1-7b2af0b447df",
   "metadata": {},
   "source": [
    "## English"
   ]
  },
  {
   "cell_type": "markdown",
   "id": "b1a62807-3ad7-44ef-a4a4-ca2bdb51a24f",
   "metadata": {},
   "source": [
    "### Preprocesses the data"
   ]
  },
  {
   "cell_type": "code",
   "execution_count": 4,
   "id": "65ffcfba-acb3-4ecc-a0b6-7418e0fc4f87",
   "metadata": {},
   "outputs": [],
   "source": [
    "from utils import load_data\n",
    "\n",
    "train_data_en, dev_data_en, test_data_en = load_data(\"english\")"
   ]
  },
  {
   "cell_type": "code",
   "execution_count": 5,
   "id": "c099e248-093a-4314-b03d-c5b4e3f67b88",
   "metadata": {},
   "outputs": [],
   "source": [
    "preprocessor_en = DataPreprocessor(preprocessor_config)"
   ]
  },
  {
   "cell_type": "code",
   "execution_count": 6,
   "id": "256bd283-d392-4696-ba0f-e28d7682f7df",
   "metadata": {
    "scrolled": true
   },
   "outputs": [
    {
     "ename": "NameError",
     "evalue": "name 'preprocessor' is not defined",
     "output_type": "error",
     "traceback": [
      "\u001b[31m---------------------------------------------------------------------------\u001b[39m",
      "\u001b[31mNameError\u001b[39m                                 Traceback (most recent call last)",
      "\u001b[36mCell\u001b[39m\u001b[36m \u001b[39m\u001b[32mIn[6]\u001b[39m\u001b[32m, line 1\u001b[39m\n\u001b[32m----> \u001b[39m\u001b[32m1\u001b[39m X_train_en, y_train_en = \u001b[43mpreprocessor\u001b[49m.process_data_to_pad_sequences(\n\u001b[32m      2\u001b[39m     train_data_en, is_train_dataset=\u001b[38;5;28;01mTrue\u001b[39;00m\n\u001b[32m      3\u001b[39m )\n\u001b[32m      4\u001b[39m X_dev_en, y_dev_en = preprocessor.process_data_to_pad_sequences(\n\u001b[32m      5\u001b[39m     dev_data, is_train_dataset=\u001b[38;5;28;01mFalse\u001b[39;00m\n\u001b[32m      6\u001b[39m )\n\u001b[32m      7\u001b[39m X_test_en, y_test_en = preprocessor.process_data_to_pad_sequences(\n\u001b[32m      8\u001b[39m     test_data, is_train_dataset=\u001b[38;5;28;01mFalse\u001b[39;00m\n\u001b[32m      9\u001b[39m )\n",
      "\u001b[31mNameError\u001b[39m: name 'preprocessor' is not defined"
     ]
    }
   ],
   "source": [
    "X_train_en, y_train_en = preprocessor.process_data_to_pad_sequences(\n",
    "    train_data_en, is_train_dataset=True\n",
    ")\n",
    "X_dev_en, y_dev_en = preprocessor.process_data_to_pad_sequences(\n",
    "    dev_data, is_train_dataset=False\n",
    ")\n",
    "X_test_en, y_test_en = preprocessor.process_data_to_pad_sequences(\n",
    "    test_data, is_train_dataset=False\n",
    ")"
   ]
  },
  {
   "cell_type": "markdown",
   "id": "01a42629-77f8-4b9f-9fda-1ed11e9147db",
   "metadata": {},
   "source": [
    "### Initilize the model with the config"
   ]
  },
  {
   "cell_type": "code",
   "execution_count": null,
   "id": "bb21160c-cefb-475d-b8a1-252bcc7d5b0f",
   "metadata": {},
   "outputs": [],
   "source": [
    "from models.lstm_model import LSTMModel\n",
    "\n",
    "lstm_en = LSTMModel(\n",
    "    model_config,\n",
    "    preprocessor_en.vocab_size,\n",
    "    preprocessor_en.num_tags,\n",
    "    preprocessor_config.max_sequence_length,\n",
    ")\n",
    "lstm_en.build_model()\n",
    "lstm_en.compile_model()\n",
    "\n",
    "print(\"Model summary:\\n\")\n",
    "print(lstm_en.get_model().summary())"
   ]
  },
  {
   "cell_type": "markdown",
   "id": "8b3e7818-2324-45c8-ba86-700548c6bad9",
   "metadata": {},
   "source": [
    "### Training the model"
   ]
  },
  {
   "cell_type": "code",
   "execution_count": null,
   "id": "b25e129c-9a39-4e3f-ab4e-22bfbc6834ea",
   "metadata": {},
   "outputs": [],
   "source": [
    "# Initialize trainer\n",
    "trainer_en = Trainer(training_config, lstm_en, preprocessor)"
   ]
  },
  {
   "cell_type": "code",
   "execution_count": null,
   "id": "b6e65833-403e-41e5-b207-094961015f51",
   "metadata": {
    "scrolled": true
   },
   "outputs": [],
   "source": [
    "# Train the model\n",
    "print(\"Training model...\\n\")\n",
    "trainer_en.train((X_train_en, y_train_en), (X_dev_en, y_dev_en))\n",
    "print(\"Training completed.\\n\")"
   ]
  },
  {
   "cell_type": "markdown",
   "id": "8963d2b1-07f5-40c1-bce8-e75be1da7e1d",
   "metadata": {},
   "source": [
    "### Testing the model"
   ]
  },
  {
   "cell_type": "code",
   "execution_count": null,
   "id": "5f51730b-645e-4cbc-921e-927c15da6f98",
   "metadata": {},
   "outputs": [],
   "source": [
    "from evaluator.evaluator import Evaluator\n",
    "\n",
    "evaluator_en = Evaluator(lstm_en, preprocessor_en)"
   ]
  },
  {
   "cell_type": "code",
   "execution_count": null,
   "id": "55a7d7d2-1c09-4809-98eb-2611c42c9ab9",
   "metadata": {
    "scrolled": true
   },
   "outputs": [],
   "source": [
    "test_metrics_en = evaluator_en.evaluate(X_test_en, y_test_en, \"Test\")"
   ]
  },
  {
   "cell_type": "markdown",
   "id": "3ec91403-505e-4df7-9472-4bb553d74f60",
   "metadata": {},
   "source": [
    "### Inference on new sentences"
   ]
  },
  {
   "cell_type": "code",
   "execution_count": null,
   "id": "b87e799b-aaa1-40fc-aacb-c525f334ee05",
   "metadata": {},
   "outputs": [],
   "source": [
    "from inference.predictor import Predictor\n",
    "\n",
    "# Create predictor for inference\n",
    "predictor+en = Predictor(lstm_en.get_model(), preprocessor)"
   ]
  },
  {
   "cell_type": "code",
   "execution_count": null,
   "id": "1d27ffca-e911-41f5-8c15-596530cd1d34",
   "metadata": {},
   "outputs": [],
   "source": [
    "example_sentence_en = \"Today it is cloudy\"\n",
    "predicted_tags_en = predictor.predict_sentence(example_sentence)\n",
    "print(f\"\\nExample prediction:\")\n",
    "print(f\"Sentence: {example_sentence_en}\")\n",
    "print(f\"Predicted tags: {' '.join(predicted_tags_en)}\")"
   ]
  },
  {
   "cell_type": "markdown",
   "id": "c99d4ea5-053e-4b7a-b8b6-b9c5f56bf2b2",
   "metadata": {},
   "source": [
    "## Spanish"
   ]
  },
  {
   "cell_type": "code",
   "execution_count": null,
   "id": "0fe73f07-0cc4-483b-a302-3b83a08d9789",
   "metadata": {},
   "outputs": [],
   "source": [
    "from utils import load_data\n",
    "\n",
    "train_data_es, dev_data_es, test_data_es = load_data(\"spanish\")"
   ]
  },
  {
   "cell_type": "code",
   "execution_count": null,
   "id": "8199aa7d-1b12-4dbf-8557-9986469d45c5",
   "metadata": {},
   "outputs": [],
   "source": [
    "preprocessor_es = DataPreprocessor(preprocessor_config)"
   ]
  },
  {
   "cell_type": "code",
   "execution_count": null,
   "id": "2c014127-e901-49cd-8696-90c9e67c4f08",
   "metadata": {},
   "outputs": [],
   "source": [
    "X_train_es, y_train_es = preprocessor_es.process_data_to_pad_sequences(\n",
    "    train_data_es, is_train_dataset=True\n",
    ")\n",
    "X_dev_es, y_dev_es = preprocessor_es.process_data_to_pad_sequences(\n",
    "    dev_data_es, is_train_dataset=False\n",
    ")\n",
    "X_test_es, y_test_es = preprocessor_es.process_data_to_pad_sequences(\n",
    "    test_data_es, is_train_dataset=False\n",
    ")"
   ]
  },
  {
   "cell_type": "markdown",
   "id": "90d9d263-f701-4a95-950d-af03c4170c88",
   "metadata": {},
   "source": [
    "### Initilize the model with the config"
   ]
  },
  {
   "cell_type": "code",
   "execution_count": null,
   "id": "9d5528dc-8053-4c07-b468-7c7cd7eac5a9",
   "metadata": {},
   "outputs": [],
   "source": [
    "from models.lstm_model import LSTMModel\n",
    "\n",
    "es_lstm = LSTMModel(\n",
    "    model_config,\n",
    "    preprocessor_es.vocab_size,\n",
    "    preprocessor_es.num_tags,\n",
    "    preprocessor_config.max_sequence_length,\n",
    ")\n",
    "es_lstm.build_model()\n",
    "es_lstm.compile_model()\n",
    "\n",
    "print(\"Model summary:\\n\")\n",
    "print(es_lstm.get_model().summary())"
   ]
  },
  {
   "cell_type": "code",
   "execution_count": null,
   "id": "b4af7cea-9216-46f3-aa2a-176f26b8cfdb",
   "metadata": {},
   "outputs": [],
   "source": [
    "trainer = Trainer(training_config, es_lstm, preprocessor_es)"
   ]
  },
  {
   "cell_type": "code",
   "execution_count": null,
   "id": "628cc494-1330-4cdb-8ea0-640d0dd0f6cf",
   "metadata": {},
   "outputs": [],
   "source": [
    "# Train the model\n",
    "print(\"Training model...\\n\")\n",
    "trainer.train((X_train_es, y_train_es), (X_dev_es, y_dev_es))\n",
    "print(\"Training completed.\\n\")"
   ]
  },
  {
   "cell_type": "code",
   "execution_count": null,
   "id": "bdbe5ec6-e024-4161-beb4-5a755d8e535c",
   "metadata": {},
   "outputs": [],
   "source": [
    "from evaluator.evaluator import Evaluator\n",
    "\n",
    "evaluator_es = Evaluator(es_lstm, preprocessor_es)"
   ]
  },
  {
   "cell_type": "code",
   "execution_count": null,
   "id": "32031bc0-5a73-43b9-99aa-f75bf03af3d5",
   "metadata": {},
   "outputs": [],
   "source": [
    "test_metrics_es = evaluator_es.evaluate(X_test_es, y_test_es, \"Test\")"
   ]
  },
  {
   "cell_type": "markdown",
   "id": "ce0c0e3b-2920-455b-87c3-fe65757a41db",
   "metadata": {},
   "source": [
    "### Inference on new sentences"
   ]
  },
  {
   "cell_type": "code",
   "execution_count": null,
   "id": "26673cc7-ea8a-4d68-9139-aa1aee7fde88",
   "metadata": {},
   "outputs": [],
   "source": [
    "from inference.predictor import Predictor\n",
    "\n",
    "# Create predictor for inference\n",
    "predictor_es = Predictor(es_lstm.get_model(), preprocessor_es)"
   ]
  },
  {
   "cell_type": "code",
   "execution_count": null,
   "id": "3cd3455f-a3e3-4270-a0cb-5a5c958c4500",
   "metadata": {
    "scrolled": true
   },
   "outputs": [],
   "source": [
    "example_sentence = \"Hoy el tiempo es soleado .\"\n",
    "predicted_tags = predictor_es.predict_sentence(example_sentence)\n",
    "print(f\"\\nExample prediction:\")\n",
    "print(f\"Sentence: {example_sentence}\")\n",
    "print(f\"Predicted tags: {' '.join(predicted_tags)}\")"
   ]
  },
  {
   "cell_type": "code",
   "execution_count": null,
   "id": "49a0f6eb-889b-4943-beaf-619fb5b1feb9",
   "metadata": {},
   "outputs": [],
   "source": []
  },
  {
   "cell_type": "markdown",
   "id": "1ec55b36-d42d-4439-bac7-ab22a8d7bf8e",
   "metadata": {},
   "source": [
    "## German"
   ]
  },
  {
   "cell_type": "markdown",
   "id": "5d00183a-9106-4936-8fa5-7a23e88e02a2",
   "metadata": {},
   "source": [
    "### Preprocess the data"
   ]
  },
  {
   "cell_type": "code",
   "execution_count": null,
   "id": "dfe97c3f-ebe4-4c1f-9d03-d616bef45abb",
   "metadata": {},
   "outputs": [],
   "source": [
    "from utils import load_data\n",
    "\n",
    "train_data_ge, dev_data_ge, test_data_ge = load_data(\"german\")"
   ]
  },
  {
   "cell_type": "code",
   "execution_count": null,
   "id": "0d76ee2a-ad88-420b-801d-fac7e9028465",
   "metadata": {},
   "outputs": [],
   "source": [
    "preprocessor_ge = DataPreprocessor(preprocessor_config)"
   ]
  },
  {
   "cell_type": "code",
   "execution_count": null,
   "id": "c4637df3-d55d-4004-86fe-6266dc85f4a9",
   "metadata": {},
   "outputs": [],
   "source": [
    "X_train_ge, y_train_ge = preprocessor_ge.process_data_to_pad_sequences(\n",
    "    train_data_ge, is_train_dataset=True\n",
    ")\n",
    "X_dev_ge, y_dev_ge = preprocessor_ge.process_data_to_pad_sequences(\n",
    "    dev_data_ge, is_train_dataset=False\n",
    ")\n",
    "X_test_ge, y_test_ge = preprocessor_ge.process_data_to_pad_sequences(\n",
    "    test_data_ge, is_train_dataset=False\n",
    ")"
   ]
  },
  {
   "cell_type": "markdown",
   "id": "e6fc5d00-5a1d-478e-b59a-dc9906a3dc30",
   "metadata": {},
   "source": [
    "### Initilize the model with the config"
   ]
  },
  {
   "cell_type": "code",
   "execution_count": null,
   "id": "2f064c62-a057-4933-9aa0-dfe122bfba3c",
   "metadata": {},
   "outputs": [],
   "source": [
    "from models.lstm_model import LSTMModel\n",
    "\n",
    "ge_lstm = LSTMModel(\n",
    "    model_config,\n",
    "    preprocessor_ge.vocab_size,\n",
    "    preprocessor_ge.num_tags,\n",
    "    preprocessor_config.max_sequence_length,\n",
    ")\n",
    "ge_lstm.build_model()\n",
    "ge_lstm.compile_model()\n",
    "\n",
    "print(\"Model summary:\\n\")\n",
    "print(ge_lstm.get_model().summary())"
   ]
  },
  {
   "cell_type": "code",
   "execution_count": null,
   "id": "2b3e9c09-10bb-4c6d-ab20-81f59f8efe31",
   "metadata": {},
   "outputs": [],
   "source": [
    "trainer_ge = Trainer(training_config, ge_lstm, preprocessor_ge)"
   ]
  },
  {
   "cell_type": "code",
   "execution_count": null,
   "id": "e783fdad-8b61-4130-8a22-e6fc9c8b14f4",
   "metadata": {},
   "outputs": [],
   "source": [
    "# Train the model\n",
    "print(\"Training model...\\n\")\n",
    "trainer_ge.train((X_train_ge, y_train_ge), (X_dev_ge, y_dev_ge))\n",
    "print(\"Training completed.\\n\")"
   ]
  },
  {
   "cell_type": "code",
   "execution_count": null,
   "id": "72784111-5e0a-4857-bb11-ef218ad7c7aa",
   "metadata": {},
   "outputs": [],
   "source": [
    "from evaluator.evaluator import Evaluator\n",
    "\n",
    "evaluator_ge = Evaluator(ge_lstm, preprocessor_ge)"
   ]
  },
  {
   "cell_type": "code",
   "execution_count": null,
   "id": "78cad7ae-c025-4cd9-8f1a-bafd871d4e21",
   "metadata": {},
   "outputs": [],
   "source": [
    "test_metrics_ge = evaluator_ge.evaluate(X_test_ge, y_test_ge, \"Test\")"
   ]
  },
  {
   "cell_type": "markdown",
   "id": "76dcfe46-4b92-4eb9-8017-dce3bb3ca3ff",
   "metadata": {},
   "source": [
    "### Inference on new sentences"
   ]
  },
  {
   "cell_type": "code",
   "execution_count": null,
   "id": "57012a2f-9b62-4721-92bf-07303dce72a1",
   "metadata": {},
   "outputs": [],
   "source": [
    "from inference.predictor import Predictor\n",
    "\n",
    "# Create predictor for inference\n",
    "predictor_ge = Predictor(ge_lstm.get_model(), preprocessor_ge)"
   ]
  },
  {
   "cell_type": "code",
   "execution_count": null,
   "id": "8b3a18dd-4f95-4872-9a4c-4c52b533f994",
   "metadata": {
    "scrolled": true
   },
   "outputs": [],
   "source": [
    "example_sentence = \"Heute ist es wolkig .\"\n",
    "predicted_tags = predictor_es.predict_sentence(example_sentence)\n",
    "print(f\"\\nExample prediction:\")\n",
    "print(f\"Sentence: {example_sentence}\")\n",
    "print(f\"Predicted tags: {' '.join(predicted_tags)}\")"
   ]
  },
  {
   "cell_type": "code",
   "execution_count": null,
   "id": "1aea3491",
   "metadata": {},
   "outputs": [],
   "source": []
  }
 ],
 "metadata": {
  "kernelspec": {
   "display_name": "Python 3 (ipykernel)",
   "language": "python",
   "name": "python3"
  },
  "language_info": {
   "codemirror_mode": {
    "name": "ipython",
    "version": 3
   },
   "file_extension": ".py",
   "mimetype": "text/x-python",
   "name": "python",
   "nbconvert_exporter": "python",
   "pygments_lexer": "ipython3",
   "version": "3.13.7"
  }
 },
 "nbformat": 4,
 "nbformat_minor": 5
}
