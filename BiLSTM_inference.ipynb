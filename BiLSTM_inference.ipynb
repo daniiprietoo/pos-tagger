{
 "cells": [
  {
   "cell_type": "markdown",
   "id": "00904f98-025f-411f-bcbc-d3a57e7eb8d8",
   "metadata": {},
   "source": [
    "# LSTM Models with 3 different languages"
   ]
  },
  {
   "cell_type": "markdown",
   "id": "b1de0fc9-b1c3-4961-bcc8-51c451207cef",
   "metadata": {},
   "source": [
    "### Create the configuration for the experiment\n",
    "\n",
    "All the languages with use the same model configuration for comparing performances across them"
   ]
  },
  {
   "cell_type": "code",
   "execution_count": 1,
   "id": "47cede0d-f442-413e-bb6b-2881d42f4af5",
   "metadata": {},
   "outputs": [
    {
     "name": "stdout",
     "output_type": "stream",
     "text": [
      "Requirement already satisfied: conllu in /opt/conda/lib/python3.13/site-packages (6.0.0)\n",
      "Note: you may need to restart the kernel to use updated packages.\n"
     ]
    }
   ],
   "source": [
    "%pip install conllu"
   ]
  },
  {
   "cell_type": "code",
   "execution_count": 2,
   "id": "e8bfdee0-5ab7-4253-938b-fd3bad1b58e7",
   "metadata": {},
   "outputs": [
    {
     "name": "stderr",
     "output_type": "stream",
     "text": [
      "/opt/conda/lib/python3.13/site-packages/google/protobuf/runtime_version.py:98: UserWarning: Protobuf gencode version 5.28.3 is exactly one major version older than the runtime version 6.31.1 at tensorflow/core/framework/attr_value.proto. Please update the gencode to avoid compatibility violations in the next runtime release.\n",
      "  warnings.warn(\n",
      "/opt/conda/lib/python3.13/site-packages/google/protobuf/runtime_version.py:98: UserWarning: Protobuf gencode version 5.28.3 is exactly one major version older than the runtime version 6.31.1 at tensorflow/core/framework/tensor.proto. Please update the gencode to avoid compatibility violations in the next runtime release.\n",
      "  warnings.warn(\n",
      "/opt/conda/lib/python3.13/site-packages/google/protobuf/runtime_version.py:98: UserWarning: Protobuf gencode version 5.28.3 is exactly one major version older than the runtime version 6.31.1 at tensorflow/core/framework/resource_handle.proto. Please update the gencode to avoid compatibility violations in the next runtime release.\n",
      "  warnings.warn(\n",
      "/opt/conda/lib/python3.13/site-packages/google/protobuf/runtime_version.py:98: UserWarning: Protobuf gencode version 5.28.3 is exactly one major version older than the runtime version 6.31.1 at tensorflow/core/framework/tensor_shape.proto. Please update the gencode to avoid compatibility violations in the next runtime release.\n",
      "  warnings.warn(\n",
      "/opt/conda/lib/python3.13/site-packages/google/protobuf/runtime_version.py:98: UserWarning: Protobuf gencode version 5.28.3 is exactly one major version older than the runtime version 6.31.1 at tensorflow/core/framework/types.proto. Please update the gencode to avoid compatibility violations in the next runtime release.\n",
      "  warnings.warn(\n",
      "/opt/conda/lib/python3.13/site-packages/google/protobuf/runtime_version.py:98: UserWarning: Protobuf gencode version 5.28.3 is exactly one major version older than the runtime version 6.31.1 at tensorflow/core/framework/full_type.proto. Please update the gencode to avoid compatibility violations in the next runtime release.\n",
      "  warnings.warn(\n",
      "/opt/conda/lib/python3.13/site-packages/google/protobuf/runtime_version.py:98: UserWarning: Protobuf gencode version 5.28.3 is exactly one major version older than the runtime version 6.31.1 at tensorflow/core/framework/function.proto. Please update the gencode to avoid compatibility violations in the next runtime release.\n",
      "  warnings.warn(\n",
      "/opt/conda/lib/python3.13/site-packages/google/protobuf/runtime_version.py:98: UserWarning: Protobuf gencode version 5.28.3 is exactly one major version older than the runtime version 6.31.1 at tensorflow/core/framework/node_def.proto. Please update the gencode to avoid compatibility violations in the next runtime release.\n",
      "  warnings.warn(\n",
      "/opt/conda/lib/python3.13/site-packages/google/protobuf/runtime_version.py:98: UserWarning: Protobuf gencode version 5.28.3 is exactly one major version older than the runtime version 6.31.1 at tensorflow/core/framework/op_def.proto. Please update the gencode to avoid compatibility violations in the next runtime release.\n",
      "  warnings.warn(\n",
      "/opt/conda/lib/python3.13/site-packages/google/protobuf/runtime_version.py:98: UserWarning: Protobuf gencode version 5.28.3 is exactly one major version older than the runtime version 6.31.1 at tensorflow/core/framework/graph.proto. Please update the gencode to avoid compatibility violations in the next runtime release.\n",
      "  warnings.warn(\n",
      "/opt/conda/lib/python3.13/site-packages/google/protobuf/runtime_version.py:98: UserWarning: Protobuf gencode version 5.28.3 is exactly one major version older than the runtime version 6.31.1 at tensorflow/core/framework/graph_debug_info.proto. Please update the gencode to avoid compatibility violations in the next runtime release.\n",
      "  warnings.warn(\n",
      "/opt/conda/lib/python3.13/site-packages/google/protobuf/runtime_version.py:98: UserWarning: Protobuf gencode version 5.28.3 is exactly one major version older than the runtime version 6.31.1 at tensorflow/core/framework/versions.proto. Please update the gencode to avoid compatibility violations in the next runtime release.\n",
      "  warnings.warn(\n",
      "/opt/conda/lib/python3.13/site-packages/google/protobuf/runtime_version.py:98: UserWarning: Protobuf gencode version 5.28.3 is exactly one major version older than the runtime version 6.31.1 at tensorflow/core/protobuf/config.proto. Please update the gencode to avoid compatibility violations in the next runtime release.\n",
      "  warnings.warn(\n",
      "/opt/conda/lib/python3.13/site-packages/google/protobuf/runtime_version.py:98: UserWarning: Protobuf gencode version 5.28.3 is exactly one major version older than the runtime version 6.31.1 at xla/tsl/protobuf/coordination_config.proto. Please update the gencode to avoid compatibility violations in the next runtime release.\n",
      "  warnings.warn(\n",
      "/opt/conda/lib/python3.13/site-packages/google/protobuf/runtime_version.py:98: UserWarning: Protobuf gencode version 5.28.3 is exactly one major version older than the runtime version 6.31.1 at tensorflow/core/framework/cost_graph.proto. Please update the gencode to avoid compatibility violations in the next runtime release.\n",
      "  warnings.warn(\n",
      "/opt/conda/lib/python3.13/site-packages/google/protobuf/runtime_version.py:98: UserWarning: Protobuf gencode version 5.28.3 is exactly one major version older than the runtime version 6.31.1 at tensorflow/core/framework/step_stats.proto. Please update the gencode to avoid compatibility violations in the next runtime release.\n",
      "  warnings.warn(\n",
      "/opt/conda/lib/python3.13/site-packages/google/protobuf/runtime_version.py:98: UserWarning: Protobuf gencode version 5.28.3 is exactly one major version older than the runtime version 6.31.1 at tensorflow/core/framework/allocation_description.proto. Please update the gencode to avoid compatibility violations in the next runtime release.\n",
      "  warnings.warn(\n",
      "/opt/conda/lib/python3.13/site-packages/google/protobuf/runtime_version.py:98: UserWarning: Protobuf gencode version 5.28.3 is exactly one major version older than the runtime version 6.31.1 at tensorflow/core/framework/tensor_description.proto. Please update the gencode to avoid compatibility violations in the next runtime release.\n",
      "  warnings.warn(\n",
      "/opt/conda/lib/python3.13/site-packages/google/protobuf/runtime_version.py:98: UserWarning: Protobuf gencode version 5.28.3 is exactly one major version older than the runtime version 6.31.1 at tensorflow/core/protobuf/cluster.proto. Please update the gencode to avoid compatibility violations in the next runtime release.\n",
      "  warnings.warn(\n",
      "/opt/conda/lib/python3.13/site-packages/google/protobuf/runtime_version.py:98: UserWarning: Protobuf gencode version 5.28.3 is exactly one major version older than the runtime version 6.31.1 at tensorflow/core/protobuf/debug.proto. Please update the gencode to avoid compatibility violations in the next runtime release.\n",
      "  warnings.warn(\n"
     ]
    }
   ],
   "source": [
    "import keras\n",
    "\n",
    "keras.utils.set_random_seed(50)"
   ]
  },
  {
   "cell_type": "code",
   "execution_count": 3,
   "id": "0168f0ea-b89f-4d8d-a8e2-812715916f6f",
   "metadata": {},
   "outputs": [],
   "source": [
    "from data.preprocessor import DataPreprocessor, DataPreprocessorConfig\n",
    "from trainer.trainer import TrainerConfig, Trainer\n",
    "from models.base_model import ModelConfig\n",
    "\n",
    "preprocessor_config = DataPreprocessorConfig(\n",
    "    padding_type=\"post\",\n",
    "    truncation_type=\"post\",\n",
    "    remove_long_sentences=True,\n",
    "    max_sequence_length=100,\n",
    ")\n",
    "\n",
    "training_config = TrainerConfig(\n",
    "    epochs=20,\n",
    "    batch_size=64,\n",
    "    early_stopping_patience=3,\n",
    "    learning_rate=1e-3,\n",
    "    model_dir=\"saved_models\",\n",
    "    save_best_only=True,\n",
    ")\n",
    "\n",
    "model_config = ModelConfig(\n",
    "    embedding_dim=80,\n",
    "    lstm_units=128,\n",
    "    bidirectional=True,\n",
    "    dropout_rate=0.3,\n",
    "    training_config=training_config,\n",
    ")"
   ]
  },
  {
   "cell_type": "markdown",
   "id": "6226e116-7546-41de-b8c1-7b2af0b447df",
   "metadata": {},
   "source": [
    "## English"
   ]
  },
  {
   "cell_type": "markdown",
   "id": "b1a62807-3ad7-44ef-a4a4-ca2bdb51a24f",
   "metadata": {},
   "source": [
    "### Preprocesses the data"
   ]
  },
  {
   "cell_type": "code",
   "execution_count": 4,
   "id": "65ffcfba-acb3-4ecc-a0b6-7418e0fc4f87",
   "metadata": {},
   "outputs": [],
   "source": [
    "from utils import load_data\n",
    "\n",
    "train_data_en, dev_data_en, test_data_en = load_data(\"english\")"
   ]
  },
  {
   "cell_type": "code",
   "execution_count": 5,
   "id": "c099e248-093a-4314-b03d-c5b4e3f67b88",
   "metadata": {},
   "outputs": [],
   "source": [
    "preprocessor_en = DataPreprocessor(preprocessor_config)"
   ]
  },
  {
   "cell_type": "code",
   "execution_count": 6,
   "id": "256bd283-d392-4696-ba0f-e28d7682f7df",
   "metadata": {
    "scrolled": true
   },
   "outputs": [
    {
     "name": "stdout",
     "output_type": "stream",
     "text": [
      "Sample sentence: Al - Zaman : American forces killed Shaikh Abdullah al - Ani , the preacher at the mosque in the town of Qaim , near the Syrian border .\n",
      "Sample tags: PROPN PUNCT PROPN PUNCT ADJ NOUN VERB PROPN PROPN PROPN PUNCT PROPN PUNCT DET NOUN ADP DET NOUN ADP DET NOUN ADP PROPN PUNCT ADP DET ADJ NOUN PUNCT\n",
      "Sample vectorized sentence shape: (100,)\n",
      "Sample vectorized sentence: [  264    16  6152    45   293   709  1150  4860 18886   592    16 18792\n",
      "     4     3  7335    35     3  7509    10     3   486     8  8930     4\n",
      "   751     3  2357  1642     2     0     0     0     0     0     0     0\n",
      "     0     0     0     0     0     0     0     0     0     0     0     0\n",
      "     0     0     0     0     0     0     0     0     0     0     0     0\n",
      "     0     0     0     0     0     0     0     0     0     0     0     0\n",
      "     0     0     0     0     0     0     0     0     0     0     0     0\n",
      "     0     0     0     0     0     0     0     0     0     0     0     0\n",
      "     0     0     0     0]\n",
      "Sample vectorized tags: [12 13 12 13  1  8 16 12 12 12 13 12 13  6  8  2  6  8  2  6  8  2 12 13\n",
      "  2  6  1  8 13  0  0  0  0  0  0  0  0  0  0  0  0  0  0  0  0  0  0  0\n",
      "  0  0  0  0  0  0  0  0  0  0  0  0  0  0  0  0  0  0  0  0  0  0  0  0\n",
      "  0  0  0  0  0  0  0  0  0  0  0  0  0  0  0  0  0  0  0  0  0  0  0  0\n",
      "  0  0  0  0]\n",
      "Sample sentence: From the AP comes this story :\n",
      "Sample tags: ADP DET PROPN VERB DET NOUN PUNCT\n",
      "Sample vectorized sentence shape: (100,)\n",
      "Sample vectorized sentence: [  767     3 18913   659    25  1272    45     0     0     0     0     0\n",
      "     0     0     0     0     0     0     0     0     0     0     0     0\n",
      "     0     0     0     0     0     0     0     0     0     0     0     0\n",
      "     0     0     0     0     0     0     0     0     0     0     0     0\n",
      "     0     0     0     0     0     0     0     0     0     0     0     0\n",
      "     0     0     0     0     0     0     0     0     0     0     0     0\n",
      "     0     0     0     0     0     0     0     0     0     0     0     0\n",
      "     0     0     0     0     0     0     0     0     0     0     0     0\n",
      "     0     0     0     0]\n",
      "Sample vectorized tags: [ 2  6 12 16  6  8 13  0  0  0  0  0  0  0  0  0  0  0  0  0  0  0  0  0\n",
      "  0  0  0  0  0  0  0  0  0  0  0  0  0  0  0  0  0  0  0  0  0  0  0  0\n",
      "  0  0  0  0  0  0  0  0  0  0  0  0  0  0  0  0  0  0  0  0  0  0  0  0\n",
      "  0  0  0  0  0  0  0  0  0  0  0  0  0  0  0  0  0  0  0  0  0  0  0  0\n",
      "  0  0  0  0]\n",
      "Sample sentence: What if Google Morphed Into GoogleOS ?\n",
      "Sample tags: PRON SCONJ PROPN VERB ADP PROPN PUNCT\n",
      "Sample vectorized sentence shape: (100,)\n",
      "Sample vectorized sentence: [  212    54  3444     1 17319     1    33     0     0     0     0     0\n",
      "     0     0     0     0     0     0     0     0     0     0     0     0\n",
      "     0     0     0     0     0     0     0     0     0     0     0     0\n",
      "     0     0     0     0     0     0     0     0     0     0     0     0\n",
      "     0     0     0     0     0     0     0     0     0     0     0     0\n",
      "     0     0     0     0     0     0     0     0     0     0     0     0\n",
      "     0     0     0     0     0     0     0     0     0     0     0     0\n",
      "     0     0     0     0     0     0     0     0     0     0     0     0\n",
      "     0     0     0     0]\n",
      "Sample vectorized tags: [11 14 12 16  2 12 13  0  0  0  0  0  0  0  0  0  0  0  0  0  0  0  0  0\n",
      "  0  0  0  0  0  0  0  0  0  0  0  0  0  0  0  0  0  0  0  0  0  0  0  0\n",
      "  0  0  0  0  0  0  0  0  0  0  0  0  0  0  0  0  0  0  0  0  0  0  0  0\n",
      "  0  0  0  0  0  0  0  0  0  0  0  0  0  0  0  0  0  0  0  0  0  0  0  0\n",
      "  0  0  0  0]\n"
     ]
    }
   ],
   "source": [
    "X_train_en, y_train_en = preprocessor.process_data_to_pad_sequences(\n",
    "    train_data_en, is_train_dataset=True\n",
    ")\n",
    "X_dev_en, y_dev_en = preprocessor.process_data_to_pad_sequences(\n",
    "    dev_data, is_train_dataset=False\n",
    ")\n",
    "X_test_en, y_test_en = preprocessor.process_data_to_pad_sequences(\n",
    "    test_data, is_train_dataset=False\n",
    ")"
   ]
  },
  {
   "cell_type": "markdown",
   "id": "01a42629-77f8-4b9f-9fda-1ed11e9147db",
   "metadata": {},
   "source": [
    "### Initilize the model with the config"
   ]
  },
  {
   "cell_type": "code",
   "execution_count": 7,
   "id": "bb21160c-cefb-475d-b8a1-252bcc7d5b0f",
   "metadata": {},
   "outputs": [
    {
     "name": "stdout",
     "output_type": "stream",
     "text": [
      "Model summary:\n",
      "\n"
     ]
    },
    {
     "data": {
      "text/html": [
       "<pre style=\"white-space:pre;overflow-x:auto;line-height:normal;font-family:Menlo,'DejaVu Sans Mono',consolas,'Courier New',monospace\"><span style=\"font-weight: bold\">Model: \"sequential\"</span>\n",
       "</pre>\n"
      ],
      "text/plain": [
       "\u001b[1mModel: \"sequential\"\u001b[0m\n"
      ]
     },
     "metadata": {},
     "output_type": "display_data"
    },
    {
     "data": {
      "text/html": [
       "<pre style=\"white-space:pre;overflow-x:auto;line-height:normal;font-family:Menlo,'DejaVu Sans Mono',consolas,'Courier New',monospace\">┏━━━━━━━━━━━━━━━━━━━━━━━━━━━━━━━━━┳━━━━━━━━━━━━━━━━━━━━━━━━┳━━━━━━━━━━━━━━━┓\n",
       "┃<span style=\"font-weight: bold\"> Layer (type)                    </span>┃<span style=\"font-weight: bold\"> Output Shape           </span>┃<span style=\"font-weight: bold\">       Param # </span>┃\n",
       "┡━━━━━━━━━━━━━━━━━━━━━━━━━━━━━━━━━╇━━━━━━━━━━━━━━━━━━━━━━━━╇━━━━━━━━━━━━━━━┩\n",
       "│ embedding (<span style=\"color: #0087ff; text-decoration-color: #0087ff\">Embedding</span>)           │ (<span style=\"color: #00d7ff; text-decoration-color: #00d7ff\">None</span>, <span style=\"color: #00af00; text-decoration-color: #00af00\">100</span>, <span style=\"color: #00af00; text-decoration-color: #00af00\">80</span>)        │     <span style=\"color: #00af00; text-decoration-color: #00af00\">1,574,080</span> │\n",
       "├─────────────────────────────────┼────────────────────────┼───────────────┤\n",
       "│ bidirectional (<span style=\"color: #0087ff; text-decoration-color: #0087ff\">Bidirectional</span>)   │ (<span style=\"color: #00d7ff; text-decoration-color: #00d7ff\">None</span>, <span style=\"color: #00af00; text-decoration-color: #00af00\">100</span>, <span style=\"color: #00af00; text-decoration-color: #00af00\">256</span>)       │       <span style=\"color: #00af00; text-decoration-color: #00af00\">214,016</span> │\n",
       "├─────────────────────────────────┼────────────────────────┼───────────────┤\n",
       "│ time_distributed                │ (<span style=\"color: #00d7ff; text-decoration-color: #00d7ff\">None</span>, <span style=\"color: #00af00; text-decoration-color: #00af00\">100</span>, <span style=\"color: #00af00; text-decoration-color: #00af00\">19</span>)        │         <span style=\"color: #00af00; text-decoration-color: #00af00\">4,883</span> │\n",
       "│ (<span style=\"color: #0087ff; text-decoration-color: #0087ff\">TimeDistributed</span>)               │                        │               │\n",
       "└─────────────────────────────────┴────────────────────────┴───────────────┘\n",
       "</pre>\n"
      ],
      "text/plain": [
       "┏━━━━━━━━━━━━━━━━━━━━━━━━━━━━━━━━━┳━━━━━━━━━━━━━━━━━━━━━━━━┳━━━━━━━━━━━━━━━┓\n",
       "┃\u001b[1m \u001b[0m\u001b[1mLayer (type)                   \u001b[0m\u001b[1m \u001b[0m┃\u001b[1m \u001b[0m\u001b[1mOutput Shape          \u001b[0m\u001b[1m \u001b[0m┃\u001b[1m \u001b[0m\u001b[1m      Param #\u001b[0m\u001b[1m \u001b[0m┃\n",
       "┡━━━━━━━━━━━━━━━━━━━━━━━━━━━━━━━━━╇━━━━━━━━━━━━━━━━━━━━━━━━╇━━━━━━━━━━━━━━━┩\n",
       "│ embedding (\u001b[38;5;33mEmbedding\u001b[0m)           │ (\u001b[38;5;45mNone\u001b[0m, \u001b[38;5;34m100\u001b[0m, \u001b[38;5;34m80\u001b[0m)        │     \u001b[38;5;34m1,574,080\u001b[0m │\n",
       "├─────────────────────────────────┼────────────────────────┼───────────────┤\n",
       "│ bidirectional (\u001b[38;5;33mBidirectional\u001b[0m)   │ (\u001b[38;5;45mNone\u001b[0m, \u001b[38;5;34m100\u001b[0m, \u001b[38;5;34m256\u001b[0m)       │       \u001b[38;5;34m214,016\u001b[0m │\n",
       "├─────────────────────────────────┼────────────────────────┼───────────────┤\n",
       "│ time_distributed                │ (\u001b[38;5;45mNone\u001b[0m, \u001b[38;5;34m100\u001b[0m, \u001b[38;5;34m19\u001b[0m)        │         \u001b[38;5;34m4,883\u001b[0m │\n",
       "│ (\u001b[38;5;33mTimeDistributed\u001b[0m)               │                        │               │\n",
       "└─────────────────────────────────┴────────────────────────┴───────────────┘\n"
      ]
     },
     "metadata": {},
     "output_type": "display_data"
    },
    {
     "data": {
      "text/html": [
       "<pre style=\"white-space:pre;overflow-x:auto;line-height:normal;font-family:Menlo,'DejaVu Sans Mono',consolas,'Courier New',monospace\"><span style=\"font-weight: bold\"> Total params: </span><span style=\"color: #00af00; text-decoration-color: #00af00\">1,792,979</span> (6.84 MB)\n",
       "</pre>\n"
      ],
      "text/plain": [
       "\u001b[1m Total params: \u001b[0m\u001b[38;5;34m1,792,979\u001b[0m (6.84 MB)\n"
      ]
     },
     "metadata": {},
     "output_type": "display_data"
    },
    {
     "data": {
      "text/html": [
       "<pre style=\"white-space:pre;overflow-x:auto;line-height:normal;font-family:Menlo,'DejaVu Sans Mono',consolas,'Courier New',monospace\"><span style=\"font-weight: bold\"> Trainable params: </span><span style=\"color: #00af00; text-decoration-color: #00af00\">1,792,979</span> (6.84 MB)\n",
       "</pre>\n"
      ],
      "text/plain": [
       "\u001b[1m Trainable params: \u001b[0m\u001b[38;5;34m1,792,979\u001b[0m (6.84 MB)\n"
      ]
     },
     "metadata": {},
     "output_type": "display_data"
    },
    {
     "data": {
      "text/html": [
       "<pre style=\"white-space:pre;overflow-x:auto;line-height:normal;font-family:Menlo,'DejaVu Sans Mono',consolas,'Courier New',monospace\"><span style=\"font-weight: bold\"> Non-trainable params: </span><span style=\"color: #00af00; text-decoration-color: #00af00\">0</span> (0.00 B)\n",
       "</pre>\n"
      ],
      "text/plain": [
       "\u001b[1m Non-trainable params: \u001b[0m\u001b[38;5;34m0\u001b[0m (0.00 B)\n"
      ]
     },
     "metadata": {},
     "output_type": "display_data"
    },
    {
     "name": "stdout",
     "output_type": "stream",
     "text": [
      "None\n"
     ]
    }
   ],
   "source": [
    "from models.lstm_model import LSTMModel\n",
    "\n",
    "lstm_en = LSTMModel(\n",
    "    model_config,\n",
    "    preprocessor_en.vocab_size,\n",
    "    preprocessor_en.num_tags,\n",
    "    preprocessor_config.max_sequence_length,\n",
    ")\n",
    "lstm_en.build_model()\n",
    "lstm_en.compile_model()\n",
    "\n",
    "print(\"Model summary:\\n\")\n",
    "print(lstm_en.get_model().summary())"
   ]
  },
  {
   "cell_type": "markdown",
   "id": "8b3e7818-2324-45c8-ba86-700548c6bad9",
   "metadata": {},
   "source": [
    "### Training the model"
   ]
  },
  {
   "cell_type": "code",
   "execution_count": 8,
   "id": "b25e129c-9a39-4e3f-ab4e-22bfbc6834ea",
   "metadata": {},
   "outputs": [],
   "source": [
    "# Initialize trainer\n",
    "trainer_en = Trainer(training_config, lstm_en, preprocessor)"
   ]
  },
  {
   "cell_type": "code",
   "execution_count": 9,
   "id": "b6e65833-403e-41e5-b207-094961015f51",
   "metadata": {
    "scrolled": true
   },
   "outputs": [
    {
     "name": "stdout",
     "output_type": "stream",
     "text": [
      "Training model...\n",
      "\n",
      "Epoch 1/20\n",
      "\u001b[1m196/196\u001b[0m \u001b[32m━━━━━━━━━━━━━━━━━━━━\u001b[0m\u001b[37m\u001b[0m \u001b[1m0s\u001b[0m 186ms/step - _masked_accuracy: 0.3955 - loss: 2.0569\n",
      "Epoch 1: val_loss improved from None to 0.57147, saving model to saved_models/BiLSTM_emb80_lstm128_drop30_ep20_bs64_pat3_lr10.keras\n",
      "\u001b[1m196/196\u001b[0m \u001b[32m━━━━━━━━━━━━━━━━━━━━\u001b[0m\u001b[37m\u001b[0m \u001b[1m40s\u001b[0m 196ms/step - _masked_accuracy: 0.5975 - loss: 1.3587 - val__masked_accuracy: 0.8299 - val_loss: 0.5715\n",
      "Epoch 2/20\n",
      "\u001b[1m196/196\u001b[0m \u001b[32m━━━━━━━━━━━━━━━━━━━━\u001b[0m\u001b[37m\u001b[0m \u001b[1m0s\u001b[0m 226ms/step - _masked_accuracy: 0.8872 - loss: 0.3990\n",
      "Epoch 2: val_loss improved from 0.57147 to 0.33703, saving model to saved_models/BiLSTM_emb80_lstm128_drop30_ep20_bs64_pat3_lr10.keras\n",
      "\u001b[1m196/196\u001b[0m \u001b[32m━━━━━━━━━━━━━━━━━━━━\u001b[0m\u001b[37m\u001b[0m \u001b[1m46s\u001b[0m 233ms/step - _masked_accuracy: 0.9123 - loss: 0.3171 - val__masked_accuracy: 0.8975 - val_loss: 0.3370\n",
      "Epoch 3/20\n",
      "\u001b[1m196/196\u001b[0m \u001b[32m━━━━━━━━━━━━━━━━━━━━\u001b[0m\u001b[37m\u001b[0m \u001b[1m0s\u001b[0m 234ms/step - _masked_accuracy: 0.9513 - loss: 0.1815\n",
      "Epoch 3: val_loss improved from 0.33703 to 0.32228, saving model to saved_models/BiLSTM_emb80_lstm128_drop30_ep20_bs64_pat3_lr10.keras\n",
      "\u001b[1m196/196\u001b[0m \u001b[32m━━━━━━━━━━━━━━━━━━━━\u001b[0m\u001b[37m\u001b[0m \u001b[1m47s\u001b[0m 242ms/step - _masked_accuracy: 0.9572 - loss: 0.1593 - val__masked_accuracy: 0.9012 - val_loss: 0.3223\n",
      "Epoch 4/20\n",
      "\u001b[1m196/196\u001b[0m \u001b[32m━━━━━━━━━━━━━━━━━━━━\u001b[0m\u001b[37m\u001b[0m \u001b[1m0s\u001b[0m 229ms/step - _masked_accuracy: 0.9672 - loss: 0.1185\n",
      "Epoch 4: val_loss did not improve from 0.32228\n",
      "\u001b[1m196/196\u001b[0m \u001b[32m━━━━━━━━━━━━━━━━━━━━\u001b[0m\u001b[37m\u001b[0m \u001b[1m47s\u001b[0m 239ms/step - _masked_accuracy: 0.9694 - loss: 0.1090 - val__masked_accuracy: 0.9040 - val_loss: 0.3365\n",
      "Epoch 5/20\n",
      "\u001b[1m196/196\u001b[0m \u001b[32m━━━━━━━━━━━━━━━━━━━━\u001b[0m\u001b[37m\u001b[0m \u001b[1m0s\u001b[0m 229ms/step - _masked_accuracy: 0.9738 - loss: 0.0908\n",
      "Epoch 5: val_loss did not improve from 0.32228\n",
      "\u001b[1m196/196\u001b[0m \u001b[32m━━━━━━━━━━━━━━━━━━━━\u001b[0m\u001b[37m\u001b[0m \u001b[1m47s\u001b[0m 239ms/step - _masked_accuracy: 0.9750 - loss: 0.0851 - val__masked_accuracy: 0.9059 - val_loss: 0.3293\n",
      "Epoch 6/20\n",
      "\u001b[1m196/196\u001b[0m \u001b[32m━━━━━━━━━━━━━━━━━━━━\u001b[0m\u001b[37m\u001b[0m \u001b[1m0s\u001b[0m 210ms/step - _masked_accuracy: 0.9792 - loss: 0.0731\n",
      "Epoch 6: val_loss improved from 0.32228 to 0.31663, saving model to saved_models/BiLSTM_emb80_lstm128_drop30_ep20_bs64_pat3_lr10.keras\n",
      "\u001b[1m196/196\u001b[0m \u001b[32m━━━━━━━━━━━━━━━━━━━━\u001b[0m\u001b[37m\u001b[0m \u001b[1m44s\u001b[0m 224ms/step - _masked_accuracy: 0.9798 - loss: 0.0691 - val__masked_accuracy: 0.9097 - val_loss: 0.3166\n",
      "Epoch 7/20\n",
      "\u001b[1m196/196\u001b[0m \u001b[32m━━━━━━━━━━━━━━━━━━━━\u001b[0m\u001b[37m\u001b[0m \u001b[1m0s\u001b[0m 242ms/step - _masked_accuracy: 0.9821 - loss: 0.0615\n",
      "Epoch 7: val_loss did not improve from 0.31663\n",
      "\u001b[1m196/196\u001b[0m \u001b[32m━━━━━━━━━━━━━━━━━━━━\u001b[0m\u001b[37m\u001b[0m \u001b[1m50s\u001b[0m 255ms/step - _masked_accuracy: 0.9830 - loss: 0.0581 - val__masked_accuracy: 0.9107 - val_loss: 0.3243\n",
      "Epoch 8/20\n",
      "\u001b[1m196/196\u001b[0m \u001b[32m━━━━━━━━━━━━━━━━━━━━\u001b[0m\u001b[37m\u001b[0m \u001b[1m0s\u001b[0m 204ms/step - _masked_accuracy: 0.9854 - loss: 0.0517\n",
      "Epoch 8: val_loss did not improve from 0.31663\n",
      "\u001b[1m196/196\u001b[0m \u001b[32m━━━━━━━━━━━━━━━━━━━━\u001b[0m\u001b[37m\u001b[0m \u001b[1m42s\u001b[0m 216ms/step - _masked_accuracy: 0.9859 - loss: 0.0486 - val__masked_accuracy: 0.9121 - val_loss: 0.3251\n",
      "Epoch 9/20\n",
      "\u001b[1m196/196\u001b[0m \u001b[32m━━━━━━━━━━━━━━━━━━━━\u001b[0m\u001b[37m\u001b[0m \u001b[1m0s\u001b[0m 215ms/step - _masked_accuracy: 0.9879 - loss: 0.0438\n",
      "Epoch 9: val_loss did not improve from 0.31663\n",
      "\u001b[1m196/196\u001b[0m \u001b[32m━━━━━━━━━━━━━━━━━━━━\u001b[0m\u001b[37m\u001b[0m \u001b[1m44s\u001b[0m 226ms/step - _masked_accuracy: 0.9882 - loss: 0.0420 - val__masked_accuracy: 0.9145 - val_loss: 0.3197\n",
      "Epoch 9: early stopping\n",
      "Restoring model weights from the end of the best epoch: 6.\n",
      "Training completed.\n",
      "\n"
     ]
    }
   ],
   "source": [
    "# Train the model\n",
    "print(\"Training model...\\n\")\n",
    "trainer_en.train((X_train_en, y_train_en), (X_dev_en, y_dev_en))\n",
    "print(\"Training completed.\\n\")"
   ]
  },
  {
   "cell_type": "markdown",
   "id": "8963d2b1-07f5-40c1-bce8-e75be1da7e1d",
   "metadata": {},
   "source": [
    "### Testing the model"
   ]
  },
  {
   "cell_type": "code",
   "execution_count": 10,
   "id": "5f51730b-645e-4cbc-921e-927c15da6f98",
   "metadata": {},
   "outputs": [],
   "source": [
    "from evaluator.evaluator import Evaluator\n",
    "\n",
    "evaluator_en = Evaluator(lstm_en, preprocessor_en)"
   ]
  },
  {
   "cell_type": "code",
   "execution_count": 11,
   "id": "55a7d7d2-1c09-4809-98eb-2611c42c9ab9",
   "metadata": {
    "scrolled": true
   },
   "outputs": [
    {
     "name": "stdout",
     "output_type": "stream",
     "text": [
      "\n",
      "Test Set Evaluation:\n",
      "Accuracy: 0.9138\n",
      "\n",
      "Detailed Classification Report:\n",
      "              precision    recall  f1-score   support\n",
      "\n",
      "         ADJ       0.91      0.86      0.88      1788\n",
      "         ADP       0.94      0.97      0.95      2029\n",
      "         ADV       0.91      0.89      0.90      1191\n",
      "         AUX       0.98      0.98      0.98      1543\n",
      "       CCONJ       0.99      0.99      0.99       736\n",
      "         DET       0.98      0.99      0.99      1897\n",
      "        INTJ       0.98      0.70      0.82       121\n",
      "        NOUN       0.77      0.94      0.85      4123\n",
      "         NUM       0.90      0.74      0.81       542\n",
      "        PART       0.97      0.97      0.97       649\n",
      "        PRON       0.99      0.98      0.99      2165\n",
      "       PROPN       0.89      0.60      0.71      2075\n",
      "       PUNCT       1.00      0.99      0.99      3096\n",
      "       SCONJ       0.92      0.77      0.84       384\n",
      "         SYM       0.79      0.85      0.82       109\n",
      "        VERB       0.92      0.93      0.92      2606\n",
      "           X       0.25      0.14      0.18        42\n",
      "\n",
      "    accuracy                           0.91     25096\n",
      "   macro avg       0.89      0.84      0.86     25096\n",
      "weighted avg       0.92      0.91      0.91     25096\n",
      "\n"
     ]
    }
   ],
   "source": [
    "test_metrics_en = evaluator_en.evaluate(X_test_en, y_test_en, \"Test\")"
   ]
  },
  {
   "cell_type": "markdown",
   "id": "3ec91403-505e-4df7-9472-4bb553d74f60",
   "metadata": {},
   "source": [
    "### Inference on new sentences"
   ]
  },
  {
   "cell_type": "code",
   "execution_count": 12,
   "id": "b87e799b-aaa1-40fc-aacb-c525f334ee05",
   "metadata": {},
   "outputs": [],
   "source": [
    "from inference.predictor import Predictor\n",
    "\n",
    "# Create predictor for inference\n",
    "predictor_en = Predictor(lstm_en.get_model(), preprocessor_en)"
   ]
  },
  {
   "cell_type": "code",
   "execution_count": 36,
   "id": "1d27ffca-e911-41f5-8c15-596530cd1d34",
   "metadata": {},
   "outputs": [
    {
     "name": "stdout",
     "output_type": "stream",
     "text": [
      "\n",
      "--- Simple Case ---\n",
      "  Sentence: Today it is cloudy\n",
      "  Tags:     NOUN PRON AUX ADJ\n",
      "  Sentence: The quick brown fox jumps over the lazy dog .\n",
      "  Tags:     DET ADJ ADJ NOUN VERB ADP DET ADJ NOUN PUNCT\n",
      "\n",
      "--- Ambiguity ---\n",
      "  Sentence: The leaves are falling .\n",
      "  Tags:     DET NOUN AUX VERB PUNCT\n",
      "  Sentence: He leaves tomorrow .\n",
      "  Tags:     PRON VERB NOUN PUNCT\n",
      "  Sentence: I bought an apple .\n",
      "  Tags:     PRON VERB DET NOUN PUNCT\n",
      "  Sentence: I work at Apple .\n",
      "  Tags:     PRON VERB ADP PROPN PUNCT\n",
      "\n",
      "--- OOV & Typos ---\n",
      "  Sentence: I googled this supercalifragilisticexpialidocious wrd .\n",
      "  Tags:     PRON VERB DET NOUN NOUN PUNCT\n",
      "  Sentence: This sentance has twoo mispellings .\n",
      "  Tags:     DET NOUN VERB ADJ NOUN PUNCT\n"
     ]
    }
   ],
   "source": [
    "test_sentences = {\n",
    "    \"Simple Case\": [\n",
    "        \"Today it is cloudy\",\n",
    "        \"The quick brown fox jumps over the lazy dog .\"\n",
    "    ],\n",
    "    \"Ambiguity\": [\n",
    "        \"The leaves are falling .\", # leaves => NOUN\n",
    "        \"He leaves tomorrow .\", # leaves => VERB\n",
    "        \"I bought an apple .\", # apple => NOUN\n",
    "        \"I work at Apple .\" # Apple => PROPN\n",
    "    ],\n",
    "    \"OOV & Typos\": [\n",
    "        \"I googled this supercalifragilisticexpialidocious wrd .\",\n",
    "        \"This sentance has twoo mispellings .\"\n",
    "    ]\n",
    "}\n",
    "\n",
    "for category, sentences in test_sentences.items():\n",
    "    print(f\"\\n--- {category} ---\")\n",
    "    for sentence in sentences:\n",
    "        predicted_tags = predictor.predict_sentence(sentence)\n",
    "        print(f\"  Sentence: {sentence}\")\n",
    "        print(f\"  Tags:     {' '.join(predicted_tags)}\")"
   ]
  },
  {
   "cell_type": "markdown",
   "id": "c99d4ea5-053e-4b7a-b8b6-b9c5f56bf2b2",
   "metadata": {},
   "source": [
    "## Spanish"
   ]
  },
  {
   "cell_type": "code",
   "execution_count": 14,
   "id": "0fe73f07-0cc4-483b-a302-3b83a08d9789",
   "metadata": {},
   "outputs": [],
   "source": [
    "from utils import load_data\n",
    "\n",
    "train_data_es, dev_data_es, test_data_es = load_data(\"spanish\")"
   ]
  },
  {
   "cell_type": "code",
   "execution_count": 15,
   "id": "8199aa7d-1b12-4dbf-8557-9986469d45c5",
   "metadata": {},
   "outputs": [],
   "source": [
    "preprocessor_es = DataPreprocessor(preprocessor_config)"
   ]
  },
  {
   "cell_type": "code",
   "execution_count": 16,
   "id": "2c014127-e901-49cd-8696-90c9e67c4f08",
   "metadata": {},
   "outputs": [
    {
     "name": "stdout",
     "output_type": "stream",
     "text": [
      "Sample sentence: Además se le pediría a las empresas interesadas en prestar el servicio que se hagan cargo de la señalización y la cartelería que contiene información para los usuarios .\n",
      "Sample tags: ADV PRON PRON VERB ADP DET NOUN ADJ ADP VERB DET NOUN SCONJ PRON VERB NOUN ADP DET NOUN CCONJ DET NOUN SCONJ VERB NOUN ADP DET NOUN PUNCT\n",
      "Sample vectorized sentence shape: (100,)\n",
      "Sample vectorized sentence: [  168    12    37 22916     9    17   656 25241     7  9426     4   247\n",
      "    10    12  5355   625     2     6  9162     8     6 30478    10  1304\n",
      "   614    23    11  1380     5     0     0     0     0     0     0     0\n",
      "     0     0     0     0     0     0     0     0     0     0     0     0\n",
      "     0     0     0     0     0     0     0     0     0     0     0     0\n",
      "     0     0     0     0     0     0     0     0     0     0     0     0\n",
      "     0     0     0     0     0     0     0     0     0     0     0     0\n",
      "     0     0     0     0     0     0     0     0     0     0     0     0\n",
      "     0     0     0     0]\n",
      "Sample vectorized tags: [ 3 11 11 16  2  6  8  1  2 16  6  8 14 11 16  8  2  6  8  5  6  8 14 16\n",
      "  8  2  6  8 13  0  0  0  0  0  0  0  0  0  0  0  0  0  0  0  0  0  0  0\n",
      "  0  0  0  0  0  0  0  0  0  0  0  0  0  0  0  0  0  0  0  0  0  0  0  0\n",
      "  0  0  0  0  0  0  0  0  0  0  0  0  0  0  0  0  0  0  0  0  0  0  0  0\n",
      "  0  0  0  0]\n",
      "Sample sentence: Lo hizo siguiendo las nuevas corrientes aprendidas en Apulia sobre todo haciendo hincapié en la forma clásica de el Hércules desnudo .\n",
      "Sample tags: PRON VERB VERB DET ADJ NOUN VERB ADP PROPN ADP PRON VERB NOUN ADP DET NOUN ADJ ADP DET PROPN ADJ PUNCT\n",
      "Sample vectorized sentence shape: (100,)\n",
      "Sample vectorized sentence: [  644   242  3551    17   612  4192 31739     7     1    53    68   793\n",
      " 14064     7     6   108  8171     2     4  8649 14804     5     0     0\n",
      "     0     0     0     0     0     0     0     0     0     0     0     0\n",
      "     0     0     0     0     0     0     0     0     0     0     0     0\n",
      "     0     0     0     0     0     0     0     0     0     0     0     0\n",
      "     0     0     0     0     0     0     0     0     0     0     0     0\n",
      "     0     0     0     0     0     0     0     0     0     0     0     0\n",
      "     0     0     0     0     0     0     0     0     0     0     0     0\n",
      "     0     0     0     0]\n",
      "Sample vectorized tags: [11 16 16  6  1  8 16  2 12  2 11 16  8  2  6  8  1  2  6 12  1 13  0  0\n",
      "  0  0  0  0  0  0  0  0  0  0  0  0  0  0  0  0  0  0  0  0  0  0  0  0\n",
      "  0  0  0  0  0  0  0  0  0  0  0  0  0  0  0  0  0  0  0  0  0  0  0  0\n",
      "  0  0  0  0  0  0  0  0  0  0  0  0  0  0  0  0  0  0  0  0  0  0  0  0\n",
      "  0  0  0  0]\n",
      "Sample sentence: De allí procedía la familia de el escritor vallisoletano Blas Pajarero , cuya casa se encuentra en la Plaza de San Pedro ;\n",
      "Sample tags: ADP ADV VERB DET NOUN ADP DET NOUN ADJ PROPN PROPN PUNCT DET NOUN PRON VERB ADP DET PROPN ADP PROPN PROPN PUNCT\n",
      "Sample vectorized sentence shape: (100,)\n",
      "Sample vectorized sentence: [ 102  524    1    6   84    2    4 1030    1 8804    1    3  880  211\n",
      "   12   77    7    6 1833    2   99  628   85    0    0    0    0    0\n",
      "    0    0    0    0    0    0    0    0    0    0    0    0    0    0\n",
      "    0    0    0    0    0    0    0    0    0    0    0    0    0    0\n",
      "    0    0    0    0    0    0    0    0    0    0    0    0    0    0\n",
      "    0    0    0    0    0    0    0    0    0    0    0    0    0    0\n",
      "    0    0    0    0    0    0    0    0    0    0    0    0    0    0\n",
      "    0    0]\n",
      "Sample vectorized tags: [ 2  3 16  6  8  2  6  8  1 12 12 13  6  8 11 16  2  6 12  2 12 12 13  0\n",
      "  0  0  0  0  0  0  0  0  0  0  0  0  0  0  0  0  0  0  0  0  0  0  0  0\n",
      "  0  0  0  0  0  0  0  0  0  0  0  0  0  0  0  0  0  0  0  0  0  0  0  0\n",
      "  0  0  0  0  0  0  0  0  0  0  0  0  0  0  0  0  0  0  0  0  0  0  0  0\n",
      "  0  0  0  0]\n"
     ]
    }
   ],
   "source": [
    "X_train_es, y_train_es = preprocessor_es.process_data_to_pad_sequences(\n",
    "    train_data_es, is_train_dataset=True\n",
    ")\n",
    "X_dev_es, y_dev_es = preprocessor_es.process_data_to_pad_sequences(\n",
    "    dev_data_es, is_train_dataset=False\n",
    ")\n",
    "X_test_es, y_test_es = preprocessor_es.process_data_to_pad_sequences(\n",
    "    test_data_es, is_train_dataset=False\n",
    ")"
   ]
  },
  {
   "cell_type": "markdown",
   "id": "90d9d263-f701-4a95-950d-af03c4170c88",
   "metadata": {},
   "source": [
    "### Initilize the model with the config"
   ]
  },
  {
   "cell_type": "code",
   "execution_count": 17,
   "id": "9d5528dc-8053-4c07-b468-7c7cd7eac5a9",
   "metadata": {},
   "outputs": [
    {
     "name": "stdout",
     "output_type": "stream",
     "text": [
      "Model summary:\n",
      "\n"
     ]
    },
    {
     "data": {
      "text/html": [
       "<pre style=\"white-space:pre;overflow-x:auto;line-height:normal;font-family:Menlo,'DejaVu Sans Mono',consolas,'Courier New',monospace\"><span style=\"font-weight: bold\">Model: \"sequential_2\"</span>\n",
       "</pre>\n"
      ],
      "text/plain": [
       "\u001b[1mModel: \"sequential_2\"\u001b[0m\n"
      ]
     },
     "metadata": {},
     "output_type": "display_data"
    },
    {
     "data": {
      "text/html": [
       "<pre style=\"white-space:pre;overflow-x:auto;line-height:normal;font-family:Menlo,'DejaVu Sans Mono',consolas,'Courier New',monospace\">┏━━━━━━━━━━━━━━━━━━━━━━━━━━━━━━━━━┳━━━━━━━━━━━━━━━━━━━━━━━━┳━━━━━━━━━━━━━━━┓\n",
       "┃<span style=\"font-weight: bold\"> Layer (type)                    </span>┃<span style=\"font-weight: bold\"> Output Shape           </span>┃<span style=\"font-weight: bold\">       Param # </span>┃\n",
       "┡━━━━━━━━━━━━━━━━━━━━━━━━━━━━━━━━━╇━━━━━━━━━━━━━━━━━━━━━━━━╇━━━━━━━━━━━━━━━┩\n",
       "│ embedding_2 (<span style=\"color: #0087ff; text-decoration-color: #0087ff\">Embedding</span>)         │ (<span style=\"color: #00d7ff; text-decoration-color: #00d7ff\">None</span>, <span style=\"color: #00af00; text-decoration-color: #00af00\">100</span>, <span style=\"color: #00af00; text-decoration-color: #00af00\">80</span>)        │     <span style=\"color: #00af00; text-decoration-color: #00af00\">3,690,720</span> │\n",
       "├─────────────────────────────────┼────────────────────────┼───────────────┤\n",
       "│ bidirectional_2 (<span style=\"color: #0087ff; text-decoration-color: #0087ff\">Bidirectional</span>) │ (<span style=\"color: #00d7ff; text-decoration-color: #00d7ff\">None</span>, <span style=\"color: #00af00; text-decoration-color: #00af00\">100</span>, <span style=\"color: #00af00; text-decoration-color: #00af00\">256</span>)       │       <span style=\"color: #00af00; text-decoration-color: #00af00\">214,016</span> │\n",
       "├─────────────────────────────────┼────────────────────────┼───────────────┤\n",
       "│ time_distributed_2              │ (<span style=\"color: #00d7ff; text-decoration-color: #00d7ff\">None</span>, <span style=\"color: #00af00; text-decoration-color: #00af00\">100</span>, <span style=\"color: #00af00; text-decoration-color: #00af00\">19</span>)        │         <span style=\"color: #00af00; text-decoration-color: #00af00\">4,883</span> │\n",
       "│ (<span style=\"color: #0087ff; text-decoration-color: #0087ff\">TimeDistributed</span>)               │                        │               │\n",
       "└─────────────────────────────────┴────────────────────────┴───────────────┘\n",
       "</pre>\n"
      ],
      "text/plain": [
       "┏━━━━━━━━━━━━━━━━━━━━━━━━━━━━━━━━━┳━━━━━━━━━━━━━━━━━━━━━━━━┳━━━━━━━━━━━━━━━┓\n",
       "┃\u001b[1m \u001b[0m\u001b[1mLayer (type)                   \u001b[0m\u001b[1m \u001b[0m┃\u001b[1m \u001b[0m\u001b[1mOutput Shape          \u001b[0m\u001b[1m \u001b[0m┃\u001b[1m \u001b[0m\u001b[1m      Param #\u001b[0m\u001b[1m \u001b[0m┃\n",
       "┡━━━━━━━━━━━━━━━━━━━━━━━━━━━━━━━━━╇━━━━━━━━━━━━━━━━━━━━━━━━╇━━━━━━━━━━━━━━━┩\n",
       "│ embedding_2 (\u001b[38;5;33mEmbedding\u001b[0m)         │ (\u001b[38;5;45mNone\u001b[0m, \u001b[38;5;34m100\u001b[0m, \u001b[38;5;34m80\u001b[0m)        │     \u001b[38;5;34m3,690,720\u001b[0m │\n",
       "├─────────────────────────────────┼────────────────────────┼───────────────┤\n",
       "│ bidirectional_2 (\u001b[38;5;33mBidirectional\u001b[0m) │ (\u001b[38;5;45mNone\u001b[0m, \u001b[38;5;34m100\u001b[0m, \u001b[38;5;34m256\u001b[0m)       │       \u001b[38;5;34m214,016\u001b[0m │\n",
       "├─────────────────────────────────┼────────────────────────┼───────────────┤\n",
       "│ time_distributed_2              │ (\u001b[38;5;45mNone\u001b[0m, \u001b[38;5;34m100\u001b[0m, \u001b[38;5;34m19\u001b[0m)        │         \u001b[38;5;34m4,883\u001b[0m │\n",
       "│ (\u001b[38;5;33mTimeDistributed\u001b[0m)               │                        │               │\n",
       "└─────────────────────────────────┴────────────────────────┴───────────────┘\n"
      ]
     },
     "metadata": {},
     "output_type": "display_data"
    },
    {
     "data": {
      "text/html": [
       "<pre style=\"white-space:pre;overflow-x:auto;line-height:normal;font-family:Menlo,'DejaVu Sans Mono',consolas,'Courier New',monospace\"><span style=\"font-weight: bold\"> Total params: </span><span style=\"color: #00af00; text-decoration-color: #00af00\">3,909,619</span> (14.91 MB)\n",
       "</pre>\n"
      ],
      "text/plain": [
       "\u001b[1m Total params: \u001b[0m\u001b[38;5;34m3,909,619\u001b[0m (14.91 MB)\n"
      ]
     },
     "metadata": {},
     "output_type": "display_data"
    },
    {
     "data": {
      "text/html": [
       "<pre style=\"white-space:pre;overflow-x:auto;line-height:normal;font-family:Menlo,'DejaVu Sans Mono',consolas,'Courier New',monospace\"><span style=\"font-weight: bold\"> Trainable params: </span><span style=\"color: #00af00; text-decoration-color: #00af00\">3,909,619</span> (14.91 MB)\n",
       "</pre>\n"
      ],
      "text/plain": [
       "\u001b[1m Trainable params: \u001b[0m\u001b[38;5;34m3,909,619\u001b[0m (14.91 MB)\n"
      ]
     },
     "metadata": {},
     "output_type": "display_data"
    },
    {
     "data": {
      "text/html": [
       "<pre style=\"white-space:pre;overflow-x:auto;line-height:normal;font-family:Menlo,'DejaVu Sans Mono',consolas,'Courier New',monospace\"><span style=\"font-weight: bold\"> Non-trainable params: </span><span style=\"color: #00af00; text-decoration-color: #00af00\">0</span> (0.00 B)\n",
       "</pre>\n"
      ],
      "text/plain": [
       "\u001b[1m Non-trainable params: \u001b[0m\u001b[38;5;34m0\u001b[0m (0.00 B)\n"
      ]
     },
     "metadata": {},
     "output_type": "display_data"
    },
    {
     "name": "stdout",
     "output_type": "stream",
     "text": [
      "None\n"
     ]
    }
   ],
   "source": [
    "from models.lstm_model import LSTMModel\n",
    "\n",
    "es_lstm = LSTMModel(\n",
    "    model_config,\n",
    "    preprocessor_es.vocab_size,\n",
    "    preprocessor_es.num_tags,\n",
    "    preprocessor_config.max_sequence_length,\n",
    ")\n",
    "es_lstm.build_model()\n",
    "es_lstm.compile_model()\n",
    "\n",
    "print(\"Model summary:\\n\")\n",
    "print(es_lstm.get_model().summary())"
   ]
  },
  {
   "cell_type": "code",
   "execution_count": 18,
   "id": "b4af7cea-9216-46f3-aa2a-176f26b8cfdb",
   "metadata": {},
   "outputs": [],
   "source": [
    "trainer = Trainer(training_config, es_lstm, preprocessor_es)"
   ]
  },
  {
   "cell_type": "code",
   "execution_count": 19,
   "id": "628cc494-1330-4cdb-8ea0-640d0dd0f6cf",
   "metadata": {},
   "outputs": [
    {
     "name": "stdout",
     "output_type": "stream",
     "text": [
      "Training model...\n",
      "\n",
      "Epoch 1/20\n",
      "\u001b[1m222/222\u001b[0m \u001b[32m━━━━━━━━━━━━━━━━━━━━\u001b[0m\u001b[37m\u001b[0m \u001b[1m0s\u001b[0m 182ms/step - _masked_accuracy: 0.4803 - loss: 1.7553\n",
      "Epoch 1: val_loss improved from None to 0.34492, saving model to saved_models/BiLSTM_emb80_lstm128_drop30_ep20_bs64_pat3_lr10.keras\n",
      "\u001b[1m222/222\u001b[0m \u001b[32m━━━━━━━━━━━━━━━━━━━━\u001b[0m\u001b[37m\u001b[0m \u001b[1m46s\u001b[0m 191ms/step - _masked_accuracy: 0.6780 - loss: 1.0779 - val__masked_accuracy: 0.9015 - val_loss: 0.3449\n",
      "Epoch 2/20\n",
      "\u001b[1m222/222\u001b[0m \u001b[32m━━━━━━━━━━━━━━━━━━━━\u001b[0m\u001b[37m\u001b[0m \u001b[1m0s\u001b[0m 217ms/step - _masked_accuracy: 0.9206 - loss: 0.2828\n",
      "Epoch 2: val_loss improved from 0.34492 to 0.19685, saving model to saved_models/BiLSTM_emb80_lstm128_drop30_ep20_bs64_pat3_lr10.keras\n",
      "\u001b[1m222/222\u001b[0m \u001b[32m━━━━━━━━━━━━━━━━━━━━\u001b[0m\u001b[37m\u001b[0m \u001b[1m49s\u001b[0m 222ms/step - _masked_accuracy: 0.9361 - loss: 0.2293 - val__masked_accuracy: 0.9407 - val_loss: 0.1969\n",
      "Epoch 3/20\n",
      "\u001b[1m222/222\u001b[0m \u001b[32m━━━━━━━━━━━━━━━━━━━━\u001b[0m\u001b[37m\u001b[0m \u001b[1m0s\u001b[0m 227ms/step - _masked_accuracy: 0.9619 - loss: 0.1364\n",
      "Epoch 3: val_loss improved from 0.19685 to 0.18073, saving model to saved_models/BiLSTM_emb80_lstm128_drop30_ep20_bs64_pat3_lr10.keras\n",
      "\u001b[1m222/222\u001b[0m \u001b[32m━━━━━━━━━━━━━━━━━━━━\u001b[0m\u001b[37m\u001b[0m \u001b[1m51s\u001b[0m 231ms/step - _masked_accuracy: 0.9657 - loss: 0.1218 - val__masked_accuracy: 0.9459 - val_loss: 0.1807\n",
      "Epoch 4/20\n",
      "\u001b[1m222/222\u001b[0m \u001b[32m━━━━━━━━━━━━━━━━━━━━\u001b[0m\u001b[37m\u001b[0m \u001b[1m0s\u001b[0m 221ms/step - _masked_accuracy: 0.9720 - loss: 0.0946\n",
      "Epoch 4: val_loss improved from 0.18073 to 0.17597, saving model to saved_models/BiLSTM_emb80_lstm128_drop30_ep20_bs64_pat3_lr10.keras\n",
      "\u001b[1m222/222\u001b[0m \u001b[32m━━━━━━━━━━━━━━━━━━━━\u001b[0m\u001b[37m\u001b[0m \u001b[1m50s\u001b[0m 226ms/step - _masked_accuracy: 0.9737 - loss: 0.0887 - val__masked_accuracy: 0.9474 - val_loss: 0.1760\n",
      "Epoch 5/20\n",
      "\u001b[1m222/222\u001b[0m \u001b[32m━━━━━━━━━━━━━━━━━━━━\u001b[0m\u001b[37m\u001b[0m \u001b[1m0s\u001b[0m 222ms/step - _masked_accuracy: 0.9767 - loss: 0.0766\n",
      "Epoch 5: val_loss did not improve from 0.17597\n",
      "\u001b[1m222/222\u001b[0m \u001b[32m━━━━━━━━━━━━━━━━━━━━\u001b[0m\u001b[37m\u001b[0m \u001b[1m51s\u001b[0m 228ms/step - _masked_accuracy: 0.9779 - loss: 0.0725 - val__masked_accuracy: 0.9455 - val_loss: 0.1816\n",
      "Epoch 6/20\n",
      "\u001b[1m222/222\u001b[0m \u001b[32m━━━━━━━━━━━━━━━━━━━━\u001b[0m\u001b[37m\u001b[0m \u001b[1m0s\u001b[0m 216ms/step - _masked_accuracy: 0.9795 - loss: 0.0659\n",
      "Epoch 6: val_loss did not improve from 0.17597\n",
      "\u001b[1m222/222\u001b[0m \u001b[32m━━━━━━━━━━━━━━━━━━━━\u001b[0m\u001b[37m\u001b[0m \u001b[1m50s\u001b[0m 224ms/step - _masked_accuracy: 0.9804 - loss: 0.0625 - val__masked_accuracy: 0.9416 - val_loss: 0.1935\n",
      "Epoch 7/20\n",
      "\u001b[1m222/222\u001b[0m \u001b[32m━━━━━━━━━━━━━━━━━━━━\u001b[0m\u001b[37m\u001b[0m \u001b[1m0s\u001b[0m 209ms/step - _masked_accuracy: 0.9818 - loss: 0.0570\n",
      "Epoch 7: val_loss did not improve from 0.17597\n",
      "\u001b[1m222/222\u001b[0m \u001b[32m━━━━━━━━━━━━━━━━━━━━\u001b[0m\u001b[37m\u001b[0m \u001b[1m48s\u001b[0m 216ms/step - _masked_accuracy: 0.9828 - loss: 0.0541 - val__masked_accuracy: 0.9440 - val_loss: 0.1939\n",
      "Epoch 7: early stopping\n",
      "Restoring model weights from the end of the best epoch: 4.\n",
      "Training completed.\n",
      "\n"
     ]
    }
   ],
   "source": [
    "# Train the model\n",
    "print(\"Training model...\\n\")\n",
    "trainer.train((X_train_es, y_train_es), (X_dev_es, y_dev_es))\n",
    "print(\"Training completed.\\n\")"
   ]
  },
  {
   "cell_type": "code",
   "execution_count": 20,
   "id": "bdbe5ec6-e024-4161-beb4-5a755d8e535c",
   "metadata": {},
   "outputs": [],
   "source": [
    "from evaluator.evaluator import Evaluator\n",
    "\n",
    "evaluator_es = Evaluator(es_lstm, preprocessor_es)"
   ]
  },
  {
   "cell_type": "code",
   "execution_count": 21,
   "id": "32031bc0-5a73-43b9-99aa-f75bf03af3d5",
   "metadata": {},
   "outputs": [
    {
     "name": "stdout",
     "output_type": "stream",
     "text": [
      "\n",
      "Test Set Evaluation:\n",
      "Accuracy: 0.9388\n",
      "\n",
      "Detailed Classification Report:\n",
      "              precision    recall  f1-score   support\n",
      "\n",
      "         ADJ       0.86      0.86      0.86       665\n",
      "         ADP       0.99      0.99      0.99      1876\n",
      "         ADV       0.98      0.90      0.94       424\n",
      "         AUX       0.94      0.95      0.94       331\n",
      "       CCONJ       0.98      0.90      0.94       395\n",
      "         DET       0.98      0.99      0.99      1696\n",
      "        INTJ       0.00      0.00      0.00         1\n",
      "        NOUN       0.93      0.93      0.93      2225\n",
      "         NUM       0.97      0.85      0.91       230\n",
      "        PART       0.00      0.00      0.00         1\n",
      "        PRON       0.92      0.93      0.92       445\n",
      "       PROPN       0.75      0.92      0.82       818\n",
      "       PUNCT       1.00      1.00      1.00      1260\n",
      "       SCONJ       0.88      0.91      0.90       336\n",
      "         SYM       1.00      0.76      0.86        25\n",
      "        VERB       0.96      0.88      0.92      1167\n",
      "           X       0.29      0.11      0.16        46\n",
      "\n",
      "    accuracy                           0.94     11941\n",
      "   macro avg       0.79      0.76      0.77     11941\n",
      "weighted avg       0.94      0.94      0.94     11941\n",
      "\n"
     ]
    }
   ],
   "source": [
    "test_metrics_es = evaluator_es.evaluate(X_test_es, y_test_es, \"Test\")"
   ]
  },
  {
   "cell_type": "markdown",
   "id": "ce0c0e3b-2920-455b-87c3-fe65757a41db",
   "metadata": {},
   "source": [
    "### Inference on new sentences"
   ]
  },
  {
   "cell_type": "code",
   "execution_count": 22,
   "id": "26673cc7-ea8a-4d68-9139-aa1aee7fde88",
   "metadata": {},
   "outputs": [],
   "source": [
    "from inference.predictor import Predictor\n",
    "\n",
    "# Create predictor for inference\n",
    "predictor_es = Predictor(es_lstm.get_model(), preprocessor_es)"
   ]
  },
  {
   "cell_type": "code",
   "execution_count": 38,
   "id": "3cd3455f-a3e3-4270-a0cb-5a5c958c4500",
   "metadata": {
    "scrolled": true
   },
   "outputs": [
    {
     "name": "stdout",
     "output_type": "stream",
     "text": [
      "\n",
      "--- NOUN vs. VERB Ambiguity ---\n",
      "  Sentence: El vino estaba bueno .\n",
      "  Tags:     DET NOUN AUX ADJ PUNCT\n",
      "  Sentence: Él no vino a la fiesta .\n",
      "  Tags:     PRON ADV VERB ADP DET NOUN PUNCT\n",
      "  Sentence: Yo canto en el coro .\n",
      "  Tags:     PRON NOUN ADP DET NOUN PUNCT\n",
      "  Sentence: El canto del pájaro es bonito .\n",
      "  Tags:     DET NOUN ADP PROPN AUX ADJ PUNCT\n",
      "\n",
      "--- NOUN vs. PROPN Ambiguity ---\n",
      "  Sentence: Compró una rosa roja .\n",
      "  Tags:     VERB DET ADJ ADJ PUNCT\n",
      "  Sentence: Habló con Rosa esta mañana .\n",
      "  Tags:     VERB ADP PROPN DET NOUN PUNCT\n",
      "  Sentence: El marco de la foto es de madera .\n",
      "  Tags:     DET NOUN ADP DET NOUN VERB ADP NOUN PUNCT\n",
      "  Sentence: Vi a Marco en el parque .\n",
      "  Tags:     VERB ADP PROPN ADP DET NOUN PUNCT\n",
      "\n",
      "--- Multi-way Ambiguity (ADJ/NOUN/ADV) ---\n",
      "  Sentence: El hombre bajo se fue .\n",
      "  Tags:     DET NOUN ADJ PRON VERB PUNCT\n",
      "  Sentence: Él toca el bajo .\n",
      "  Tags:     PRON VERB DET NOUN PUNCT\n",
      "  Sentence: Por favor habla más bajo .\n",
      "  Tags:     ADP NOUN VERB ADV ADJ PUNCT\n"
     ]
    }
   ],
   "source": [
    "test_sentences_spanish = {\n",
    "    \"NOUN vs. VERB Ambiguity\": [\n",
    "        \"El vino estaba bueno .\",            # vino => NOUN\n",
    "        \"Él no vino a la fiesta .\",          # vino => VERB\n",
    "        \"Yo canto en el coro .\",             # canto => VERB\n",
    "        \"El canto del pájaro es bonito .\"   # canto => NOUN\n",
    "    ],\n",
    "    \"NOUN vs. PROPN Ambiguity\": [\n",
    "        \"Compró una rosa roja .\",            # rosa => NOUN\n",
    "        \"Habló con Rosa esta mañana .\",     # Rosa => PROPN\n",
    "        \"El marco de la foto es de madera .\", # marco => NOUN\n",
    "        \"Vi a Marco en el parque .\"         # Marco => PROPN\n",
    "    ],\n",
    "    \"Multi-way Ambiguity (ADJ/NOUN/ADV)\": [\n",
    "        \"El hombre bajo se fue .\",           # bajo => ADJ\n",
    "        \"Él toca el bajo .\",                 # bajo => NOUN\n",
    "        \"Por favor habla más bajo .\"        # bajo => ADV\n",
    "    ]\n",
    "}\n",
    "\n",
    "for category, sentences in test_sentences_spanish.items():\n",
    "    print(f\"\\n--- {category} ---\")\n",
    "    for sentence in sentences:\n",
    "        predicted_tags = predictor_es.predict_sentence(sentence)\n",
    "        print(f\"  Sentence: {sentence}\")\n",
    "        print(f\"  Tags:     {' '.join(predicted_tags)}\")"
   ]
  },
  {
   "cell_type": "code",
   "execution_count": null,
   "id": "49a0f6eb-889b-4943-beaf-619fb5b1feb9",
   "metadata": {},
   "outputs": [],
   "source": []
  },
  {
   "cell_type": "markdown",
   "id": "1ec55b36-d42d-4439-bac7-ab22a8d7bf8e",
   "metadata": {},
   "source": [
    "## German"
   ]
  },
  {
   "cell_type": "markdown",
   "id": "5d00183a-9106-4936-8fa5-7a23e88e02a2",
   "metadata": {},
   "source": [
    "### Preprocess the data"
   ]
  },
  {
   "cell_type": "code",
   "execution_count": 24,
   "id": "dfe97c3f-ebe4-4c1f-9d03-d616bef45abb",
   "metadata": {},
   "outputs": [],
   "source": [
    "from utils import load_data\n",
    "\n",
    "train_data_ge, dev_data_ge, test_data_ge = load_data(\"german\")"
   ]
  },
  {
   "cell_type": "code",
   "execution_count": 25,
   "id": "0d76ee2a-ad88-420b-801d-fac7e9028465",
   "metadata": {},
   "outputs": [],
   "source": [
    "preprocessor_ge = DataPreprocessor(preprocessor_config)"
   ]
  },
  {
   "cell_type": "code",
   "execution_count": 26,
   "id": "c4637df3-d55d-4004-86fe-6266dc85f4a9",
   "metadata": {},
   "outputs": [
    {
     "name": "stdout",
     "output_type": "stream",
     "text": [
      "Sample sentence: Sehr gute Beratung , schnelle Behebung der Probleme , so stelle ich mir Kundenservice vor .\n",
      "Sample tags: ADV ADJ NOUN PUNCT ADJ NOUN DET NOUN PUNCT ADV VERB PRON PRON NOUN ADP PUNCT\n",
      "Sample vectorized sentence shape: (100,)\n",
      "Sample vectorized sentence: [  519   405   558     3  3535 46275     4   907     3    78  9386    84\n",
      "   250  4651    58     2     0     0     0     0     0     0     0     0\n",
      "     0     0     0     0     0     0     0     0     0     0     0     0\n",
      "     0     0     0     0     0     0     0     0     0     0     0     0\n",
      "     0     0     0     0     0     0     0     0     0     0     0     0\n",
      "     0     0     0     0     0     0     0     0     0     0     0     0\n",
      "     0     0     0     0     0     0     0     0     0     0     0     0\n",
      "     0     0     0     0     0     0     0     0     0     0     0     0\n",
      "     0     0     0     0]\n",
      "Sample vectorized tags: [ 3  1  8 13  1  8  6  8 13  3 16 11 11  8  2 13  0  0  0  0  0  0  0  0\n",
      "  0  0  0  0  0  0  0  0  0  0  0  0  0  0  0  0  0  0  0  0  0  0  0  0\n",
      "  0  0  0  0  0  0  0  0  0  0  0  0  0  0  0  0  0  0  0  0  0  0  0  0\n",
      "  0  0  0  0  0  0  0  0  0  0  0  0  0  0  0  0  0  0  0  0  0  0  0  0\n",
      "  0  0  0  0]\n",
      "Sample sentence: Manasse ist ein einzigartiger Parfümeur .\n",
      "Sample tags: PROPN AUX DET ADJ NOUN PUNCT\n",
      "Sample vectorized sentence shape: (100,)\n",
      "Sample vectorized sentence: [ 1 15 28  1  1  2  0  0  0  0  0  0  0  0  0  0  0  0  0  0  0  0  0  0\n",
      "  0  0  0  0  0  0  0  0  0  0  0  0  0  0  0  0  0  0  0  0  0  0  0  0\n",
      "  0  0  0  0  0  0  0  0  0  0  0  0  0  0  0  0  0  0  0  0  0  0  0  0\n",
      "  0  0  0  0  0  0  0  0  0  0  0  0  0  0  0  0  0  0  0  0  0  0  0  0\n",
      "  0  0  0  0]\n",
      "Sample vectorized tags: [12  4  6  1  8 13  0  0  0  0  0  0  0  0  0  0  0  0  0  0  0  0  0  0\n",
      "  0  0  0  0  0  0  0  0  0  0  0  0  0  0  0  0  0  0  0  0  0  0  0  0\n",
      "  0  0  0  0  0  0  0  0  0  0  0  0  0  0  0  0  0  0  0  0  0  0  0  0\n",
      "  0  0  0  0  0  0  0  0  0  0  0  0  0  0  0  0  0  0  0  0  0  0  0  0\n",
      "  0  0  0  0]\n",
      "Sample sentence: Der Hauptgang war in Ordnung , aber alles andere als umwerfend .\n",
      "Sample tags: DET NOUN AUX ADP NOUN PUNCT CCONJ DET DET ADP ADJ PUNCT\n",
      "Sample vectorized sentence shape: (100,)\n",
      "Sample vectorized sentence: [  36    1   30    6 1589    3   63  375  197   26    1    2    0    0\n",
      "    0    0    0    0    0    0    0    0    0    0    0    0    0    0\n",
      "    0    0    0    0    0    0    0    0    0    0    0    0    0    0\n",
      "    0    0    0    0    0    0    0    0    0    0    0    0    0    0\n",
      "    0    0    0    0    0    0    0    0    0    0    0    0    0    0\n",
      "    0    0    0    0    0    0    0    0    0    0    0    0    0    0\n",
      "    0    0    0    0    0    0    0    0    0    0    0    0    0    0\n",
      "    0    0]\n",
      "Sample vectorized tags: [ 6  8  4  2  8 13  5  6  6  2  1 13  0  0  0  0  0  0  0  0  0  0  0  0\n",
      "  0  0  0  0  0  0  0  0  0  0  0  0  0  0  0  0  0  0  0  0  0  0  0  0\n",
      "  0  0  0  0  0  0  0  0  0  0  0  0  0  0  0  0  0  0  0  0  0  0  0  0\n",
      "  0  0  0  0  0  0  0  0  0  0  0  0  0  0  0  0  0  0  0  0  0  0  0  0\n",
      "  0  0  0  0]\n"
     ]
    }
   ],
   "source": [
    "X_train_ge, y_train_ge = preprocessor_ge.process_data_to_pad_sequences(\n",
    "    train_data_ge, is_train_dataset=True\n",
    ")\n",
    "X_dev_ge, y_dev_ge = preprocessor_ge.process_data_to_pad_sequences(\n",
    "    dev_data_ge, is_train_dataset=False\n",
    ")\n",
    "X_test_ge, y_test_ge = preprocessor_ge.process_data_to_pad_sequences(\n",
    "    test_data_ge, is_train_dataset=False\n",
    ")"
   ]
  },
  {
   "cell_type": "markdown",
   "id": "e6fc5d00-5a1d-478e-b59a-dc9906a3dc30",
   "metadata": {},
   "source": [
    "### Initilize the model with the config"
   ]
  },
  {
   "cell_type": "code",
   "execution_count": 27,
   "id": "2f064c62-a057-4933-9aa0-dfe122bfba3c",
   "metadata": {},
   "outputs": [
    {
     "name": "stdout",
     "output_type": "stream",
     "text": [
      "Model summary:\n",
      "\n"
     ]
    },
    {
     "data": {
      "text/html": [
       "<pre style=\"white-space:pre;overflow-x:auto;line-height:normal;font-family:Menlo,'DejaVu Sans Mono',consolas,'Courier New',monospace\"><span style=\"font-weight: bold\">Model: \"sequential_4\"</span>\n",
       "</pre>\n"
      ],
      "text/plain": [
       "\u001b[1mModel: \"sequential_4\"\u001b[0m\n"
      ]
     },
     "metadata": {},
     "output_type": "display_data"
    },
    {
     "data": {
      "text/html": [
       "<pre style=\"white-space:pre;overflow-x:auto;line-height:normal;font-family:Menlo,'DejaVu Sans Mono',consolas,'Courier New',monospace\">┏━━━━━━━━━━━━━━━━━━━━━━━━━━━━━━━━━┳━━━━━━━━━━━━━━━━━━━━━━━━┳━━━━━━━━━━━━━━━┓\n",
       "┃<span style=\"font-weight: bold\"> Layer (type)                    </span>┃<span style=\"font-weight: bold\"> Output Shape           </span>┃<span style=\"font-weight: bold\">       Param # </span>┃\n",
       "┡━━━━━━━━━━━━━━━━━━━━━━━━━━━━━━━━━╇━━━━━━━━━━━━━━━━━━━━━━━━╇━━━━━━━━━━━━━━━┩\n",
       "│ embedding_4 (<span style=\"color: #0087ff; text-decoration-color: #0087ff\">Embedding</span>)         │ (<span style=\"color: #00d7ff; text-decoration-color: #00d7ff\">None</span>, <span style=\"color: #00af00; text-decoration-color: #00af00\">100</span>, <span style=\"color: #00af00; text-decoration-color: #00af00\">80</span>)        │     <span style=\"color: #00af00; text-decoration-color: #00af00\">3,960,080</span> │\n",
       "├─────────────────────────────────┼────────────────────────┼───────────────┤\n",
       "│ bidirectional_4 (<span style=\"color: #0087ff; text-decoration-color: #0087ff\">Bidirectional</span>) │ (<span style=\"color: #00d7ff; text-decoration-color: #00d7ff\">None</span>, <span style=\"color: #00af00; text-decoration-color: #00af00\">100</span>, <span style=\"color: #00af00; text-decoration-color: #00af00\">256</span>)       │       <span style=\"color: #00af00; text-decoration-color: #00af00\">214,016</span> │\n",
       "├─────────────────────────────────┼────────────────────────┼───────────────┤\n",
       "│ time_distributed_4              │ (<span style=\"color: #00d7ff; text-decoration-color: #00d7ff\">None</span>, <span style=\"color: #00af00; text-decoration-color: #00af00\">100</span>, <span style=\"color: #00af00; text-decoration-color: #00af00\">19</span>)        │         <span style=\"color: #00af00; text-decoration-color: #00af00\">4,883</span> │\n",
       "│ (<span style=\"color: #0087ff; text-decoration-color: #0087ff\">TimeDistributed</span>)               │                        │               │\n",
       "└─────────────────────────────────┴────────────────────────┴───────────────┘\n",
       "</pre>\n"
      ],
      "text/plain": [
       "┏━━━━━━━━━━━━━━━━━━━━━━━━━━━━━━━━━┳━━━━━━━━━━━━━━━━━━━━━━━━┳━━━━━━━━━━━━━━━┓\n",
       "┃\u001b[1m \u001b[0m\u001b[1mLayer (type)                   \u001b[0m\u001b[1m \u001b[0m┃\u001b[1m \u001b[0m\u001b[1mOutput Shape          \u001b[0m\u001b[1m \u001b[0m┃\u001b[1m \u001b[0m\u001b[1m      Param #\u001b[0m\u001b[1m \u001b[0m┃\n",
       "┡━━━━━━━━━━━━━━━━━━━━━━━━━━━━━━━━━╇━━━━━━━━━━━━━━━━━━━━━━━━╇━━━━━━━━━━━━━━━┩\n",
       "│ embedding_4 (\u001b[38;5;33mEmbedding\u001b[0m)         │ (\u001b[38;5;45mNone\u001b[0m, \u001b[38;5;34m100\u001b[0m, \u001b[38;5;34m80\u001b[0m)        │     \u001b[38;5;34m3,960,080\u001b[0m │\n",
       "├─────────────────────────────────┼────────────────────────┼───────────────┤\n",
       "│ bidirectional_4 (\u001b[38;5;33mBidirectional\u001b[0m) │ (\u001b[38;5;45mNone\u001b[0m, \u001b[38;5;34m100\u001b[0m, \u001b[38;5;34m256\u001b[0m)       │       \u001b[38;5;34m214,016\u001b[0m │\n",
       "├─────────────────────────────────┼────────────────────────┼───────────────┤\n",
       "│ time_distributed_4              │ (\u001b[38;5;45mNone\u001b[0m, \u001b[38;5;34m100\u001b[0m, \u001b[38;5;34m19\u001b[0m)        │         \u001b[38;5;34m4,883\u001b[0m │\n",
       "│ (\u001b[38;5;33mTimeDistributed\u001b[0m)               │                        │               │\n",
       "└─────────────────────────────────┴────────────────────────┴───────────────┘\n"
      ]
     },
     "metadata": {},
     "output_type": "display_data"
    },
    {
     "data": {
      "text/html": [
       "<pre style=\"white-space:pre;overflow-x:auto;line-height:normal;font-family:Menlo,'DejaVu Sans Mono',consolas,'Courier New',monospace\"><span style=\"font-weight: bold\"> Total params: </span><span style=\"color: #00af00; text-decoration-color: #00af00\">4,178,979</span> (15.94 MB)\n",
       "</pre>\n"
      ],
      "text/plain": [
       "\u001b[1m Total params: \u001b[0m\u001b[38;5;34m4,178,979\u001b[0m (15.94 MB)\n"
      ]
     },
     "metadata": {},
     "output_type": "display_data"
    },
    {
     "data": {
      "text/html": [
       "<pre style=\"white-space:pre;overflow-x:auto;line-height:normal;font-family:Menlo,'DejaVu Sans Mono',consolas,'Courier New',monospace\"><span style=\"font-weight: bold\"> Trainable params: </span><span style=\"color: #00af00; text-decoration-color: #00af00\">4,178,979</span> (15.94 MB)\n",
       "</pre>\n"
      ],
      "text/plain": [
       "\u001b[1m Trainable params: \u001b[0m\u001b[38;5;34m4,178,979\u001b[0m (15.94 MB)\n"
      ]
     },
     "metadata": {},
     "output_type": "display_data"
    },
    {
     "data": {
      "text/html": [
       "<pre style=\"white-space:pre;overflow-x:auto;line-height:normal;font-family:Menlo,'DejaVu Sans Mono',consolas,'Courier New',monospace\"><span style=\"font-weight: bold\"> Non-trainable params: </span><span style=\"color: #00af00; text-decoration-color: #00af00\">0</span> (0.00 B)\n",
       "</pre>\n"
      ],
      "text/plain": [
       "\u001b[1m Non-trainable params: \u001b[0m\u001b[38;5;34m0\u001b[0m (0.00 B)\n"
      ]
     },
     "metadata": {},
     "output_type": "display_data"
    },
    {
     "name": "stdout",
     "output_type": "stream",
     "text": [
      "None\n"
     ]
    }
   ],
   "source": [
    "from models.lstm_model import LSTMModel\n",
    "\n",
    "ge_lstm = LSTMModel(\n",
    "    model_config,\n",
    "    preprocessor_ge.vocab_size,\n",
    "    preprocessor_ge.num_tags,\n",
    "    preprocessor_config.max_sequence_length,\n",
    ")\n",
    "ge_lstm.build_model()\n",
    "ge_lstm.compile_model()\n",
    "\n",
    "print(\"Model summary:\\n\")\n",
    "print(ge_lstm.get_model().summary())"
   ]
  },
  {
   "cell_type": "code",
   "execution_count": 28,
   "id": "2b3e9c09-10bb-4c6d-ab20-81f59f8efe31",
   "metadata": {},
   "outputs": [],
   "source": [
    "trainer_ge = Trainer(training_config, ge_lstm, preprocessor_ge)"
   ]
  },
  {
   "cell_type": "code",
   "execution_count": 29,
   "id": "e783fdad-8b61-4130-8a22-e6fc9c8b14f4",
   "metadata": {},
   "outputs": [
    {
     "name": "stdout",
     "output_type": "stream",
     "text": [
      "Training model...\n",
      "\n",
      "Epoch 1/20\n",
      "\u001b[1m216/216\u001b[0m \u001b[32m━━━━━━━━━━━━━━━━━━━━\u001b[0m\u001b[37m\u001b[0m \u001b[1m0s\u001b[0m 199ms/step - _masked_accuracy: 0.4175 - loss: 1.9212\n",
      "Epoch 1: val_loss improved from None to 0.51502, saving model to saved_models/BiLSTM_emb80_lstm128_drop30_ep20_bs64_pat3_lr10.keras\n",
      "\u001b[1m216/216\u001b[0m \u001b[32m━━━━━━━━━━━━━━━━━━━━\u001b[0m\u001b[37m\u001b[0m \u001b[1m48s\u001b[0m 206ms/step - _masked_accuracy: 0.6087 - loss: 1.2533 - val__masked_accuracy: 0.8422 - val_loss: 0.5150\n",
      "Epoch 2/20\n",
      "\u001b[1m216/216\u001b[0m \u001b[32m━━━━━━━━━━━━━━━━━━━━\u001b[0m\u001b[37m\u001b[0m \u001b[1m0s\u001b[0m 231ms/step - _masked_accuracy: 0.8915 - loss: 0.3551\n",
      "Epoch 2: val_loss improved from 0.51502 to 0.28837, saving model to saved_models/BiLSTM_emb80_lstm128_drop30_ep20_bs64_pat3_lr10.keras\n",
      "\u001b[1m216/216\u001b[0m \u001b[32m━━━━━━━━━━━━━━━━━━━━\u001b[0m\u001b[37m\u001b[0m \u001b[1m50s\u001b[0m 233ms/step - _masked_accuracy: 0.9187 - loss: 0.2763 - val__masked_accuracy: 0.9088 - val_loss: 0.2884\n",
      "Epoch 3/20\n",
      "\u001b[1m216/216\u001b[0m \u001b[32m━━━━━━━━━━━━━━━━━━━━\u001b[0m\u001b[37m\u001b[0m \u001b[1m0s\u001b[0m 228ms/step - _masked_accuracy: 0.9620 - loss: 0.1414\n",
      "Epoch 3: val_loss did not improve from 0.28837\n",
      "\u001b[1m216/216\u001b[0m \u001b[32m━━━━━━━━━━━━━━━━━━━━\u001b[0m\u001b[37m\u001b[0m \u001b[1m50s\u001b[0m 230ms/step - _masked_accuracy: 0.9676 - loss: 0.1206 - val__masked_accuracy: 0.9049 - val_loss: 0.2899\n",
      "Epoch 4/20\n",
      "\u001b[1m216/216\u001b[0m \u001b[32m━━━━━━━━━━━━━━━━━━━━\u001b[0m\u001b[37m\u001b[0m \u001b[1m0s\u001b[0m 208ms/step - _masked_accuracy: 0.9766 - loss: 0.0846\n",
      "Epoch 4: val_loss improved from 0.28837 to 0.26548, saving model to saved_models/BiLSTM_emb80_lstm128_drop30_ep20_bs64_pat3_lr10.keras\n",
      "\u001b[1m216/216\u001b[0m \u001b[32m━━━━━━━━━━━━━━━━━━━━\u001b[0m\u001b[37m\u001b[0m \u001b[1m45s\u001b[0m 210ms/step - _masked_accuracy: 0.9781 - loss: 0.0780 - val__masked_accuracy: 0.9162 - val_loss: 0.2655\n",
      "Epoch 5/20\n",
      "\u001b[1m216/216\u001b[0m \u001b[32m━━━━━━━━━━━━━━━━━━━━\u001b[0m\u001b[37m\u001b[0m \u001b[1m0s\u001b[0m 192ms/step - _masked_accuracy: 0.9810 - loss: 0.0646\n",
      "Epoch 5: val_loss improved from 0.26548 to 0.25614, saving model to saved_models/BiLSTM_emb80_lstm128_drop30_ep20_bs64_pat3_lr10.keras\n",
      "\u001b[1m216/216\u001b[0m \u001b[32m━━━━━━━━━━━━━━━━━━━━\u001b[0m\u001b[37m\u001b[0m \u001b[1m42s\u001b[0m 195ms/step - _masked_accuracy: 0.9826 - loss: 0.0601 - val__masked_accuracy: 0.9239 - val_loss: 0.2561\n",
      "Epoch 6/20\n",
      "\u001b[1m216/216\u001b[0m \u001b[32m━━━━━━━━━━━━━━━━━━━━\u001b[0m\u001b[37m\u001b[0m \u001b[1m0s\u001b[0m 196ms/step - _masked_accuracy: 0.9857 - loss: 0.0494\n",
      "Epoch 6: val_loss did not improve from 0.25614\n",
      "\u001b[1m216/216\u001b[0m \u001b[32m━━━━━━━━━━━━━━━━━━━━\u001b[0m\u001b[37m\u001b[0m \u001b[1m43s\u001b[0m 198ms/step - _masked_accuracy: 0.9866 - loss: 0.0466 - val__masked_accuracy: 0.9162 - val_loss: 0.2889\n",
      "Epoch 7/20\n",
      "\u001b[1m216/216\u001b[0m \u001b[32m━━━━━━━━━━━━━━━━━━━━\u001b[0m\u001b[37m\u001b[0m \u001b[1m0s\u001b[0m 194ms/step - _masked_accuracy: 0.9892 - loss: 0.0385\n",
      "Epoch 7: val_loss did not improve from 0.25614\n",
      "\u001b[1m216/216\u001b[0m \u001b[32m━━━━━━━━━━━━━━━━━━━━\u001b[0m\u001b[37m\u001b[0m \u001b[1m42s\u001b[0m 196ms/step - _masked_accuracy: 0.9895 - loss: 0.0370 - val__masked_accuracy: 0.9055 - val_loss: 0.3590\n",
      "Epoch 8/20\n",
      "\u001b[1m216/216\u001b[0m \u001b[32m━━━━━━━━━━━━━━━━━━━━\u001b[0m\u001b[37m\u001b[0m \u001b[1m0s\u001b[0m 192ms/step - _masked_accuracy: 0.9914 - loss: 0.0311\n",
      "Epoch 8: val_loss did not improve from 0.25614\n",
      "\u001b[1m216/216\u001b[0m \u001b[32m━━━━━━━━━━━━━━━━━━━━\u001b[0m\u001b[37m\u001b[0m \u001b[1m42s\u001b[0m 195ms/step - _masked_accuracy: 0.9916 - loss: 0.0300 - val__masked_accuracy: 0.9149 - val_loss: 0.3234\n",
      "Epoch 8: early stopping\n",
      "Restoring model weights from the end of the best epoch: 5.\n",
      "Training completed.\n",
      "\n"
     ]
    }
   ],
   "source": [
    "# Train the model\n",
    "print(\"Training model...\\n\")\n",
    "trainer_ge.train((X_train_ge, y_train_ge), (X_dev_ge, y_dev_ge))\n",
    "print(\"Training completed.\\n\")"
   ]
  },
  {
   "cell_type": "code",
   "execution_count": 30,
   "id": "72784111-5e0a-4857-bb11-ef218ad7c7aa",
   "metadata": {},
   "outputs": [],
   "source": [
    "from evaluator.evaluator import Evaluator\n",
    "\n",
    "evaluator_ge = Evaluator(ge_lstm, preprocessor_ge)"
   ]
  },
  {
   "cell_type": "code",
   "execution_count": 31,
   "id": "78cad7ae-c025-4cd9-8f1a-bafd871d4e21",
   "metadata": {},
   "outputs": [
    {
     "name": "stdout",
     "output_type": "stream",
     "text": [
      "\n",
      "Test Set Evaluation:\n",
      "Accuracy: 0.9173\n",
      "\n",
      "Detailed Classification Report:\n",
      "              precision    recall  f1-score   support\n",
      "\n",
      "         ADJ       0.92      0.76      0.83      1249\n",
      "         ADP       0.98      0.98      0.98      1603\n",
      "         ADV       0.93      0.91      0.92      1058\n",
      "         AUX       0.91      0.97      0.94       691\n",
      "       CCONJ       0.99      0.94      0.96       460\n",
      "         DET       0.99      0.98      0.98      2264\n",
      "        INTJ       0.00      0.00      0.00         4\n",
      "        NOUN       0.88      0.89      0.89      3111\n",
      "         NUM       0.99      0.88      0.93       233\n",
      "        PART       0.96      0.96      0.96       210\n",
      "        PRON       0.95      0.97      0.96       705\n",
      "       PROPN       0.62      0.87      0.72      1022\n",
      "       PUNCT       1.00      1.00      1.00      2366\n",
      "       SCONJ       0.92      0.82      0.87       168\n",
      "         SYM       0.00      0.00      0.00         4\n",
      "        VERB       0.93      0.80      0.86      1326\n",
      "           X       0.20      0.04      0.07        25\n",
      "\n",
      "    accuracy                           0.92     16499\n",
      "   macro avg       0.77      0.75      0.76     16499\n",
      "weighted avg       0.92      0.92      0.92     16499\n",
      "\n"
     ]
    }
   ],
   "source": [
    "test_metrics_ge = evaluator_ge.evaluate(X_test_ge, y_test_ge, \"Test\")"
   ]
  },
  {
   "cell_type": "markdown",
   "id": "76dcfe46-4b92-4eb9-8017-dce3bb3ca3ff",
   "metadata": {},
   "source": [
    "### Inference on new sentences"
   ]
  },
  {
   "cell_type": "code",
   "execution_count": 32,
   "id": "57012a2f-9b62-4721-92bf-07303dce72a1",
   "metadata": {},
   "outputs": [],
   "source": [
    "from inference.predictor import Predictor\n",
    "\n",
    "# Create predictor for inference\n",
    "predictor_ge = Predictor(ge_lstm.get_model(), preprocessor_ge)"
   ]
  },
  {
   "cell_type": "code",
   "execution_count": 39,
   "id": "8b3a18dd-4f95-4872-9a4c-4c52b533f994",
   "metadata": {
    "scrolled": true
   },
   "outputs": [
    {
     "name": "stdout",
     "output_type": "stream",
     "text": [
      "\n",
      "--- VERB vs. NOUN (Capitalization Ambiguity) ---\n",
      "  Sentence: Wir essen jetzt .\n",
      "  Tags:     PRON VERB ADV PUNCT\n",
      "  Sentence: Das Essen ist fertig .\n",
      "  Tags:     DET NOUN AUX ADJ PUNCT\n",
      "  Sentence: Die Vögel fliegen .\n",
      "  Tags:     DET NOUN VERB PUNCT\n",
      "  Sentence: Die Fliegen sind nervig .\n",
      "  Tags:     DET NOUN AUX NOUN PUNCT\n",
      "\n",
      "--- Homograph Ambiguity (ADJ/NOUN/ADV) ---\n",
      "  Sentence: Der Junge ist arm .\n",
      "  Tags:     DET NOUN AUX ADJ PUNCT\n",
      "  Sentence: Sein Arm ist gebrochen .\n",
      "  Tags:     DET NOUN AUX VERB PUNCT\n",
      "  Sentence: Ich komme morgen .\n",
      "  Tags:     PRON VERB ADV PUNCT\n",
      "  Sentence: Der Morgen ist kalt .\n",
      "  Tags:     DET NOUN AUX ADJ PUNCT\n",
      "\n",
      "--- NOUN vs. PROPN (Context Ambiguity) ---\n",
      "  Sentence: Der Wolf ist im Wald .\n",
      "  Tags:     DET NOUN AUX PROPN NOUN PUNCT\n",
      "  Sentence: Das ist Herr Wolf .\n",
      "  Tags:     DET AUX NOUN PROPN PUNCT\n",
      "  Sentence: Der Sommer ist heiß .\n",
      "  Tags:     DET NOUN AUX ADJ PUNCT\n",
      "  Sentence: Ich habe Frau Sommer gesehen .\n",
      "  Tags:     PRON AUX NOUN NOUN VERB PUNCT\n"
     ]
    }
   ],
   "source": [
    "test_sentences_german = {\n",
    "    \"VERB vs. NOUN (Capitalization Ambiguity)\": [\n",
    "        \"Wir essen jetzt .\",                 # essen => VERB\n",
    "        \"Das Essen ist fertig .\",            # Essen => NOUN\n",
    "        \"Die Vögel fliegen .\",               # fliegen => VERB\n",
    "        \"Die Fliegen sind nervig .\"          # Fliegen => NOUN\n",
    "    ],\n",
    "    \"Homograph Ambiguity (ADJ/NOUN/ADV)\": [\n",
    "        \"Der Junge ist arm .\",               # arm => ADJ\n",
    "        \"Sein Arm ist gebrochen .\",          # Arm => NOUN\n",
    "        \"Ich komme morgen .\",                # morgen => ADV\n",
    "        \"Der Morgen ist kalt .\"              # Morgen => NOUN\n",
    "    ],\n",
    "    \"NOUN vs. PROPN (Context Ambiguity)\": [\n",
    "        \"Der Wolf ist im Wald .\",            # Wolf => NOUN\n",
    "        \"Das ist Herr Wolf .\",               # Wolf => PROPN\n",
    "        \"Der Sommer ist heiß .\",             # Sommer => NOUN\n",
    "        \"Ich habe Frau Sommer gesehen .\"     # Sommer => PROPN\n",
    "    ]\n",
    "}\n",
    "\n",
    "for category, sentences in test_sentences_german.items():\n",
    "    print(f\"\\n--- {category} ---\")\n",
    "    for sentence in sentences:\n",
    "        predicted_tags = predictor_ge.predict_sentence(sentence)\n",
    "        print(f\"  Sentence: {sentence}\")\n",
    "        print(f\"  Tags:     {' '.join(predicted_tags)}\")"
   ]
  },
  {
   "cell_type": "code",
   "execution_count": null,
   "id": "1aea3491",
   "metadata": {},
   "outputs": [],
   "source": []
  }
 ],
 "metadata": {
  "kernelspec": {
   "display_name": "Python 3 (ipykernel)",
   "language": "python",
   "name": "python3"
  },
  "language_info": {
   "codemirror_mode": {
    "name": "ipython",
    "version": 3
   },
   "file_extension": ".py",
   "mimetype": "text/x-python",
   "name": "python",
   "nbconvert_exporter": "python",
   "pygments_lexer": "ipython3",
   "version": "3.13.7"
  }
 },
 "nbformat": 4,
 "nbformat_minor": 5
}
